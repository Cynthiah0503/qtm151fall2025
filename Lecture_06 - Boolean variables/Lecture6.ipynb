{
 "cells": [
  {
   "cell_type": "markdown",
   "id": "a4a8830a",
   "metadata": {},
   "source": [
    "# <span style=\"color:darkblue\"> Lecture 6: Boolean variables and if/else statements </span>"
   ]
  },
  {
   "cell_type": "markdown",
   "id": "08b78fe0",
   "metadata": {},
   "source": [
    "<font size=\"5\"> \n",
    "\n",
    "In the previous class we:\n",
    "- Introduced lists and NumPy arrays\n",
    "- Discussed mathematical operations on NumPy arrays"
   ]
  },
  {
   "cell_type": "markdown",
   "id": "3bda2862",
   "metadata": {},
   "source": [
    "<font size=\"5\"> \n",
    "\n",
    "In this class we will:\n",
    "\n",
    "- Introduce **boolean** objects\n",
    "- Test different categories of expressions with text and numbers\n",
    "- Study if/else statements"
   ]
  },
  {
   "cell_type": "code",
   "execution_count": 1,
   "id": "a5cd258e",
   "metadata": {},
   "outputs": [],
   "source": [
    "import numpy as np\n",
    "import matplotlib.pyplot as plt"
   ]
  },
  {
   "cell_type": "markdown",
   "id": "4b696139",
   "metadata": {},
   "source": [
    "## <span style=\"color:darkblue\"> I. Boolean objects </span>\n",
    "\n",
    "### Out of the many built-in objects in Python, two of them are of \"Boolean\" type. These are the objects ``True`` and ``False``"
   ]
  },
  {
   "cell_type": "code",
   "execution_count": 2,
   "id": "2a13f26c",
   "metadata": {},
   "outputs": [
    {
     "name": "stdout",
     "output_type": "stream",
     "text": [
      "<class 'bool'>\n"
     ]
    }
   ],
   "source": [
    "print(type(True))\n"
   ]
  },
  {
   "cell_type": "code",
   "execution_count": 3,
   "id": "e52eeedc",
   "metadata": {},
   "outputs": [
    {
     "name": "stdout",
     "output_type": "stream",
     "text": [
      "<class 'bool'>\n"
     ]
    }
   ],
   "source": [
    "print(type(False))"
   ]
  },
  {
   "cell_type": "markdown",
   "id": "bf1b3597",
   "metadata": {},
   "source": [
    "### These should not be confused with the strings \"True\" and \"False\""
   ]
  },
  {
   "cell_type": "code",
   "execution_count": 4,
   "id": "829227dd",
   "metadata": {},
   "outputs": [
    {
     "name": "stdout",
     "output_type": "stream",
     "text": [
      "<class 'bool'>\n",
      "<class 'str'>\n"
     ]
    }
   ],
   "source": [
    "print(type(True)) # Boolean object\n",
    "print(type(\"True\")) # String"
   ]
  },
  {
   "cell_type": "code",
   "execution_count": 5,
   "id": "9b3f6123",
   "metadata": {},
   "outputs": [
    {
     "name": "stdout",
     "output_type": "stream",
     "text": [
      "<class 'bool'>\n",
      "<class 'str'>\n"
     ]
    }
   ],
   "source": [
    "print(type(False)) # Boolean object\n",
    "print(type(\"False\")) # String"
   ]
  },
  {
   "cell_type": "markdown",
   "id": "0dbb3cbd",
   "metadata": {},
   "source": [
    "### What is a Boolean object? It is just an object that can take one of two possible values. In this case, True and False"
   ]
  },
  {
   "cell_type": "markdown",
   "id": "45e617b8",
   "metadata": {},
   "source": [
    "## <span style=\"color:darkblue\"> II. Comparison operators </span>\n",
    "\n",
    "- ### One of the most common ways Boolean objects show up is in the use of **comparison operators**.\n",
    "- ### These are operators used to compare two values, and return either ``True`` or ``False``.\n",
    "- ### There are six basic comparison operators. The first four are:\n",
    "    - #### ``>`` - Greater than\n",
    "    - #### ``<`` - Less than\n",
    "    - #### ``>=`` - Greater than or equal to\n",
    "    - #### ``<=`` - Less than or equal to"
   ]
  },
  {
   "cell_type": "code",
   "execution_count": 6,
   "id": "944c9145",
   "metadata": {},
   "outputs": [
    {
     "name": "stdout",
     "output_type": "stream",
     "text": [
      "True\n",
      "False\n",
      "True\n"
     ]
    }
   ],
   "source": [
    "# Test if one number is greater than the other\n",
    "print(5 > 3)\n",
    "\n",
    "print(3 > 9)\n",
    "\n",
    "print(4 + 3 > 6)\n"
   ]
  },
  {
   "cell_type": "code",
   "execution_count": 7,
   "id": "f6bf0cc9",
   "metadata": {},
   "outputs": [
    {
     "name": "stdout",
     "output_type": "stream",
     "text": [
      "False\n",
      "True\n",
      "False\n"
     ]
    }
   ],
   "source": [
    "# Test if one number is less than the other\n",
    "print(0 < -2.5)\n",
    "\n",
    "print(1 < 1.01)\n",
    "\n",
    "print(30/10 < 1)"
   ]
  },
  {
   "cell_type": "code",
<<<<<<< HEAD
   "execution_count": 15,
=======
   "execution_count": 8,
>>>>>>> b4b9f18f8e13d3ca4a001f63510faf5f68727d70
   "id": "a858000a",
   "metadata": {},
   "outputs": [
    {
     "name": "stdout",
     "output_type": "stream",
     "text": [
      "True\n",
      "False\n",
      "False\n"
     ]
    }
   ],
   "source": [
    "# Test if one number is greater that or equal to the other\n",
    "print(10 >= 1)\n",
    "\n",
    "print(8 >= 50)\n",
    "\n",
    "print(2**3 >= 10)\n",
    "\n"
   ]
  },
  {
   "cell_type": "code",
   "execution_count": 9,
   "id": "6c2ef0a8",
   "metadata": {},
   "outputs": [
    {
     "name": "stdout",
     "output_type": "stream",
     "text": [
      "False\n",
      "True\n"
     ]
    }
   ],
   "source": [
    "# Greater than OR equal to!\n",
    "print(5 > 5) # this is false\n",
    "print(5 >= 5) # this is true, since 5 equals 5"
   ]
  },
  {
   "cell_type": "code",
<<<<<<< HEAD
   "execution_count": 16,
=======
   "execution_count": 10,
>>>>>>> b4b9f18f8e13d3ca4a001f63510faf5f68727d70
   "id": "f8fcea5d",
   "metadata": {},
   "outputs": [
    {
     "name": "stdout",
     "output_type": "stream",
     "text": [
      "False\n",
      "True\n",
      "True\n"
     ]
    }
   ],
   "source": [
    "# Test if one number is less than or equal to the other\n",
    "print(10 <= 1)\n",
    "\n",
    "print(8 <= 50)\n",
    "\n",
    "print(2**3 <= 10)\n",
    "\n",
    "u = (2**3 <= 10) #open jupyter variables"
   ]
  },
  {
   "cell_type": "markdown",
   "id": "936cc2b5",
   "metadata": {},
   "source": [
    "#### Two more basic comparison operators\n",
    "- #### ``==`` - Equal\n",
    "- #### ``!=`` - Not equal\n",
    "\n",
    "#### **Warning**: Do not confuse the assignment operator ``=`` with the comparison operator that tests for equality ``==``"
   ]
  },
  {
   "cell_type": "code",
<<<<<<< HEAD
   "execution_count": 19,
=======
   "execution_count": 11,
>>>>>>> b4b9f18f8e13d3ca4a001f63510faf5f68727d70
   "id": "cf402a50",
   "metadata": {},
   "outputs": [
    {
     "name": "stdout",
     "output_type": "stream",
     "text": [
      "True\n",
      "False\n"
     ]
    }
   ],
   "source": [
    "# Does 5*3 equal 15? (Yes)\n",
    "print(5*3 == 15)\n",
    "\n",
    "# Does 3 - 2 equal 7? (No)\n",
    "print(3 - 2 == 7)"
   ]
  },
  {
   "cell_type": "code",
<<<<<<< HEAD
   "execution_count": 20,
=======
   "execution_count": 12,
>>>>>>> b4b9f18f8e13d3ca4a001f63510faf5f68727d70
   "id": "ae6fc9bd",
   "metadata": {},
   "outputs": [
    {
     "name": "stdout",
     "output_type": "stream",
     "text": [
      "True\n",
      "False\n"
     ]
    }
   ],
   "source": [
    "# Is 5*3 + 1 different from 20? (yes)\n",
    "print(5*3 + 1 != 20)\n",
    "\n",
    "# Is 10/5 different from 2? (no)\n",
    "print(10/5 != 2)"
   ]
  },
  {
   "cell_type": "markdown",
   "id": "6467cd9c",
   "metadata": {},
   "source": [
    "#### In most cases, we use a comparison operator with one or more variables "
   ]
  },
  {
   "cell_type": "code",
   "execution_count": 13,
   "id": "c49be889",
   "metadata": {},
   "outputs": [
    {
     "name": "stdout",
     "output_type": "stream",
     "text": [
      "False\n",
      "True\n"
     ]
    }
   ],
   "source": [
    "x = np.sin(12*np.pi/7)\n",
    "print(x > 0)\n",
    "\n",
    "# are these the side lenths of a right triangle?\n",
    "a = 3\n",
    "b = 4\n",
    "c = 5\n",
    "print(a**2 + b**2 == c**2)  "
   ]
  },
  {
   "cell_type": "markdown",
   "id": "3417c27c",
   "metadata": {},
   "source": [
    "## <span style=\"color:darkblue\"> III. Strings and Lists </span>\n",
    "\n",
    "- ##### The \"equals to\" comparison and \"not equals to\" comparison extend naturally to strings and lists\n",
    "- ##### If every character in a string matches another string **exactly**, then they are equal.\n",
    "- ##### If every element in a list matches **every** element in another list, then they are equal. **Order of the elements matters**"
   ]
  },
  {
   "cell_type": "code",
<<<<<<< HEAD
   "execution_count": 21,
=======
   "execution_count": 14,
>>>>>>> b4b9f18f8e13d3ca4a001f63510faf5f68727d70
   "id": "929b189e",
   "metadata": {},
   "outputs": [
    {
     "name": "stdout",
     "output_type": "stream",
     "text": [
      "True\n",
      "False\n",
      "True\n",
      "False\n"
     ]
    }
   ],
   "source": [
    "x = \"Hello World!\"\n",
    "y = \"Hello World !\"\n",
    "\n",
    "print(x == \"Hello World!\")\n",
    "print(y == \"Hello World!\")\n",
    "\n",
    "print(x != y)\n",
    "\n",
    "print('ab' == 'ba')"
   ]
  },
  {
   "cell_type": "code",
<<<<<<< HEAD
   "execution_count": 22,
=======
   "execution_count": 15,
>>>>>>> b4b9f18f8e13d3ca4a001f63510faf5f68727d70
   "id": "c24e823c",
   "metadata": {},
   "outputs": [
    {
     "name": "stdout",
     "output_type": "stream",
     "text": [
      "True\n",
      "False\n",
      "False\n",
      "True\n"
     ]
    }
   ],
   "source": [
    "list_1 = [\"blue\", \"red\", \"green\"]\n",
    "list_2 = [\"blue\", \"red\", \"green\"]\n",
    "list_3 = [\"red\", \"green\", \"blue\"]\n",
    "list_4 = [\"red\", \"green\", \"blue\", \"violet\"]\n",
    "\n",
    "print(list_1 == list_2)\n",
    "print(list_1 == list_3) # False: different ordering\n",
    "print(list_3 == list_4) # False: different number of elements\n",
    "print(list_3 != list_4) # True"
   ]
  },
  {
   "cell_type": "markdown",
   "id": "606728da",
   "metadata": {},
   "source": [
    "#### The other comparison operators \"<\", \">\", \"<=\", and \">=\" can also be used for strings and lists. However, the behavior is not obvious. See the exercises for more."
   ]
  },
  {
   "cell_type": "markdown",
   "id": "369f88f7",
   "metadata": {},
   "source": [
    "## <span style=\"color:darkblue\"> IV. NumPy Arrays </span>"
   ]
  },
  {
   "cell_type": "markdown",
   "id": "c5614eb0",
   "metadata": {},
   "source": [
    "#### When comparing Numpy arrays, a separate Boolean expression is returned for **each element**"
   ]
  },
  {
   "cell_type": "code",
<<<<<<< HEAD
   "execution_count": 23,
=======
   "execution_count": 16,
>>>>>>> b4b9f18f8e13d3ca4a001f63510faf5f68727d70
   "id": "948677f4",
   "metadata": {},
   "outputs": [
    {
     "name": "stdout",
     "output_type": "stream",
     "text": [
      "[ True  True False]\n",
      "[False False False]\n"
     ]
    }
   ],
   "source": [
    "vec_a = np.array([1,2,3])\n",
    "vec_b = np.array([1,2,4])\n",
    "\n",
    "print(vec_a == vec_b)\n",
    "\n",
    "vec_c = np.array([10, 5, 3])\n",
    "vec_d = np.array([20, 10, 8])\n",
    "print(vec_c >= vec_d)"
   ]
  },
  {
   "cell_type": "markdown",
   "id": "cf72d14e",
   "metadata": {},
   "source": [
    "## <span style=\"color:darkblue\"> V. The \"in\" keyword </span>\n",
    "\n",
    "#### This keyword allows us to test whether\n",
    "- #### A character appears in a string\n",
    "- #### An object appears in a list\n",
    "- #### A number appears in a numpy array"
   ]
  },
  {
   "cell_type": "code",
<<<<<<< HEAD
   "execution_count": 25,
=======
   "execution_count": 17,
>>>>>>> b4b9f18f8e13d3ca4a001f63510faf5f68727d70
   "id": "b2e5e8e5",
   "metadata": {},
   "outputs": [
    {
     "name": "stdout",
     "output_type": "stream",
     "text": [
      "True\n",
      "False\n",
      "True\n",
      "False\n"
     ]
    }
   ],
   "source": [
    "# The first way to use the \"in\" command is to check whether a word is contained \n",
    "# in a sentence. This can be useful if you're trying to search for patterns\n",
    "\n",
    "keyword = \"economic\"\n",
    "sentence = \"The Federal Reserve makes forecasts about many economic outcomes\"\n",
    "\n",
    "print(keyword in sentence)\n",
    "\n",
    "keyword = \"bank\"\n",
    "print(keyword in sentence)\n",
    "\n",
    "search_word = \"ts abo\" \n",
    "print(search_word in sentence)\n",
    "\n",
    "important_word = \"federal\"\n",
    "print(important_word in sentence)"
   ]
  },
  {
   "cell_type": "code",
<<<<<<< HEAD
   "execution_count": 26,
=======
   "execution_count": 18,
>>>>>>> b4b9f18f8e13d3ca4a001f63510faf5f68727d70
   "id": "b7eba07a",
   "metadata": {},
   "outputs": [
    {
     "name": "stdout",
     "output_type": "stream",
     "text": [
      "False\n",
      "True\n"
     ]
    }
   ],
   "source": [
    "# Use the condition \"in\" to test whether a word is part of a list\n",
    "# when the right-hand size is a list \"word in list\" will search for an exact match\n",
    "\n",
    "current_month  = \"September\"\n",
    "\n",
    "list_summer_months = [\"June\",\"July\",\"August\"]\n",
    "\n",
    "print(current_month in list_summer_months)\n",
    "print('June' in list_summer_months)"
   ]
  },
  {
   "cell_type": "code",
<<<<<<< HEAD
   "execution_count": 27,
=======
   "execution_count": 19,
>>>>>>> b4b9f18f8e13d3ca4a001f63510faf5f68727d70
   "id": "b67ea24d",
   "metadata": {},
   "outputs": [
    {
     "name": "stdout",
     "output_type": "stream",
     "text": [
      "True\n"
     ]
    }
   ],
   "source": [
    "# Use the keyword \"in\" to see if a number belongs to a NumPy Array\n",
    "# (Also works for lists)\n",
    "\n",
    "s = np.array([1.0, 3.0, -17, 12])\n",
    "print(1 in s)"
   ]
  },
  {
   "cell_type": "markdown",
   "id": "35b01adb",
   "metadata": {},
   "source": [
    "##  <span style=\"color:darkblue\"> VI. Logical Operators </span>\n",
    "\n",
    "- #### Logical operators allow you to combine conditional statements\n",
    "- #### The three logical operators are \"not\", \"and\", \"or\""
   ]
  },
  {
   "cell_type": "code",
   "execution_count": 20,
   "id": "ea03ba31",
   "metadata": {},
   "outputs": [
    {
     "name": "stdout",
     "output_type": "stream",
     "text": [
      "True\n"
     ]
    }
   ],
   "source": [
    "age  = 22\n",
    "\n",
    "# True or false? This person can vote in the U.S.\n",
    "\n",
    "# 1st way to test it:\n",
    "print(age >= 18)"
   ]
  },
  {
   "cell_type": "code",
<<<<<<< HEAD
   "execution_count": 28,
=======
   "execution_count": 21,
>>>>>>> b4b9f18f8e13d3ca4a001f63510faf5f68727d70
   "id": "56ff730f",
   "metadata": {},
   "outputs": [
    {
     "name": "stdout",
     "output_type": "stream",
     "text": [
      "True\n"
     ]
    }
   ],
   "source": [
    "age  = 22\n",
    "\n",
    "# True or false? This person can vote in the U.S.\n",
    "\n",
    "# 2nd way to test it:\n",
    "print(not age < 18)"
   ]
  },
  {
   "cell_type": "code",
   "execution_count": 22,
   "id": "f92bfd1e",
   "metadata": {},
   "outputs": [
    {
     "name": "stdout",
     "output_type": "stream",
     "text": [
      "False\n"
     ]
    }
   ],
   "source": [
    "price = 24.5\n",
    "\n",
    "# True or false? The price is greater than 10 dollars \n",
    "# and less than or equal to 20 dollars.\n",
    "\n",
    "print(price > 10 and price <= 20)"
   ]
  },
  {
   "cell_type": "code",
<<<<<<< HEAD
   "execution_count": 29,
=======
   "execution_count": 23,
>>>>>>> b4b9f18f8e13d3ca4a001f63510faf5f68727d70
   "id": "65d657c9",
   "metadata": {},
   "outputs": [
    {
     "name": "stdout",
     "output_type": "stream",
     "text": [
      "True\n",
      "False\n",
      "False\n"
     ]
    }
   ],
   "source": [
    "# can assign Boolean objects to variables\n",
    "\n",
    "price = 24.5\n",
    "\n",
    "statement_1 = price > 10\n",
    "statement_2 = price <= 20\n",
    "\n",
    "print(statement_1)\n",
    "print(statement_2)\n",
    "print(statement_1 and statement_2)"
   ]
  },
  {
   "cell_type": "markdown",
   "id": "5d2cf109",
   "metadata": {},
   "source": [
    "#### **Both** statements must be true for [statement_1] and [statement_2] to be true\n",
    "\n",
    "#### To test if **at least** one statment is true, use the \"or\" operator"
   ]
  },
  {
   "cell_type": "code",
<<<<<<< HEAD
   "execution_count": 30,
=======
   "execution_count": 24,
>>>>>>> b4b9f18f8e13d3ca4a001f63510faf5f68727d70
   "id": "0e8785cb",
   "metadata": {},
   "outputs": [
    {
     "name": "stdout",
     "output_type": "stream",
     "text": [
      "True\n",
      "\n",
      "True\n",
      "\n",
      "False\n",
      "\n"
     ]
    }
   ],
   "source": [
    "st_1 = 5 > 3\n",
    "st_2 = 1 >= 2000\n",
    "\n",
    "print(st_1 or st_2)\n",
    "print()\n",
    "\n",
    "st_3 = 9 < 19\n",
    "st_4 = 0 < 1\n",
    "print(st_3 or st_4)\n",
    "print()\n",
    "\n",
    "st_5 = -1 >= 10\n",
    "st_6 = 12 > 13\n",
    "print(st_5 or st_6)\n",
    "print()"
   ]
  },
  {
   "cell_type": "markdown",
   "id": "0bb1b635",
   "metadata": {},
   "source": [
    "#### While not necessary, can separate statements with parentheses for readibility"
   ]
  },
  {
   "cell_type": "code",
<<<<<<< HEAD
   "execution_count": 31,
=======
   "execution_count": 25,
>>>>>>> b4b9f18f8e13d3ca4a001f63510faf5f68727d70
   "id": "9dd9e546",
   "metadata": {},
   "outputs": [
    {
     "name": "stdout",
     "output_type": "stream",
     "text": [
      "True\n",
      "True\n"
     ]
    }
   ],
   "source": [
    "x = 13\n",
    "y = -5\n",
    "z = False\n",
    "\n",
    "P = (x > y) and (not z) and (x*y < 0)\n",
    "print(P)\n",
    "\n",
    "Q = (x == 5) or (y > 10) or (x + y > 0)\n",
    "print(Q)\n",
    "\n",
    "# try changing some of these conditions to experiment"
   ]
  },
  {
   "cell_type": "markdown",
   "id": "7ce2b625",
   "metadata": {},
   "source": [
    "##  <span style=\"color:darkblue\"> VII. Flow Control (if/elif/else) </span>\n",
    "\n",
    "<font size = \"5\">\n",
    "\n",
    "- Used to adapt the code to different logical conditions\n",
    "- Very helpful when loading, analyzing, and cleaning data!"
   ]
  },
  {
   "cell_type": "markdown",
   "id": "a17d8384",
   "metadata": {},
   "source": [
    "<font size = \"5\">\n",
    "\n",
    "<table><tr>\n",
    "<td> <img src=\"figures/if.png\" alt=\"drawing\" width=\"300\"/>  </td>\n",
    "<td>  Running a part of the code <br>\n",
    "only if a condition is met: <br>\n",
    "\n",
    "``` python\n",
    "    if test_expression:\n",
    "        Body\n",
    "```\n",
    " </td>\n",
    "</tr></table>"
   ]
  },
  {
   "cell_type": "code",
   "execution_count": 26,
   "id": "d06967cd",
   "metadata": {},
   "outputs": [
    {
     "name": "stdout",
     "output_type": "stream",
     "text": [
      "Need to give more explanation\n"
     ]
    }
   ],
   "source": [
    "#------------------------------------------------------------------------------#\n",
    "#--------------------------- EXPLANATION OF \"IF\" SYNTAX -------------------------#\n",
    "#\n",
    "# Test expression\n",
    "#---- We type \"if\" followed by a logical condition and the \":\" symbol.\n",
    "#---- The \":\" indicates that an indented code block is starting\n",
    "#\n",
    "# Body of expression\n",
    "#---- The \"body\" of the \"if\" statement needs to indented\n",
    "#---- You can indent text by pressing the \"tab\" button in your keyborad.\n",
    "#\n",
    "# If the condition is true, the code in the indented block will be run\n",
    "# If the condition is false, then the indented block is skipped\n",
    "#------------------------------------------------------------------------------#\n",
    "\n",
    "\n",
    "# We start by defining a string\n",
    "any_questions = \"yes\"\n",
    "\n",
    "if any_questions == \"yes\":\n",
    "    print(\"Need to give more explanation\")"
   ]
  },
  {
   "cell_type": "code",
<<<<<<< HEAD
   "execution_count": 32,
=======
   "execution_count": 27,
>>>>>>> b4b9f18f8e13d3ca4a001f63510faf5f68727d70
   "id": "e147913d",
   "metadata": {},
   "outputs": [
    {
     "name": "stdout",
     "output_type": "stream",
     "text": [
      "Need to give more explanation\n"
     ]
    }
   ],
   "source": [
    "### Alternatively\n",
    "any_questions = True\n",
    "\n",
    "if any_questions:\n",
    "    print(\"Need to give more explanation\")\n"
   ]
  },
  {
   "cell_type": "markdown",
   "id": "4af3733e",
   "metadata": {},
   "source": [
    "<font size = \"5\">\n",
    "\n",
    "<table><tr>\n",
    "<td> <img src=\"figures/ifelse.png\" alt=\"drawing\" width=\"300\"/>  </td>\n",
    "<td>  Running two different lines of code <br>\n",
    "depending on a condition <br>\n",
    "\n",
    "``` python\n",
    "    if test_expression:\n",
    "        Body\n",
    "    else:\n",
    "        Body\n",
    "```\n",
    "\n",
    " </td>\n",
    "</tr></table>"
   ]
  },
  {
   "cell_type": "code",
<<<<<<< HEAD
   "execution_count": 35,
=======
   "execution_count": 28,
>>>>>>> b4b9f18f8e13d3ca4a001f63510faf5f68727d70
   "id": "cb059800",
   "metadata": {},
   "outputs": [
    {
     "data": {
<<<<<<< HEAD
      "image/png": "iVBORw0KGgoAAAANSUhEUgAAAiMAAAHFCAYAAAAg3/mzAAAAOnRFWHRTb2Z0d2FyZQBNYXRwbG90bGliIHZlcnNpb24zLjEwLjAsIGh0dHBzOi8vbWF0cGxvdGxpYi5vcmcvlHJYcgAAAAlwSFlzAAAPYQAAD2EBqD+naQAAQVhJREFUeJzt3Xt8z/X///H72+xkm8nsmM0cJ8e0VUZOyXyRj8pHKskhHx85FemAhPBdSUV9yj7KIR3IpyFy+JjDRlGMiRA+WiZtpMPEh43t+fuj395fb9uwxZ7hdr1cXpeL1/P9fL1ej9fz/d5293o/36+3wxhjBAAAYEk52wUAAIDrG2EEAABYRRgBAABWEUYAAIBVhBEAAGAVYQQAAFhFGAEAAFYRRgAAgFWEEQAAYBVhBJfFjh071KdPH1WvXl1eXl7y9fXVLbfcosmTJ+vnn3+2XZ4k6cMPP9TUqVOvyL6fe+45RUREqHz58qpUqdIf2tdbb72lOXPmXJa6zte6dWu1bt36iuy7wMaNGzVu3Dj9+uuvl22fZVF3WWjdurUaNGhguwxJ0vLlyzVu3DjbZQCSCCO4DN5++21FR0dry5Yteuqpp7Ry5UotWrRI3bp1U0JCgh599FHbJUq6cmHkk08+0aRJk/TII48oJSVFq1ev/kP7u5JhpCxs3LhR48ePv6xh5K233tJbb7112faH38PI+PHjbZcBSJLK2y4AV7dNmzbpscceU7t27bR48WJ5eno6H2vXrp2efPJJrVy50mKFV97XX38tSRo6dKiCgoIsV3Ntqlevnu0SYEleXp7Onj3r8rsF1yAD/AF33323KV++vMnIyLik/nl5eeall14yUVFRxsPDwwQGBpqePXuaQ4cOufSrVq2a6dWrV6HtW7VqZVq1auVcX7dunZFkPvzwQzNq1CgTGhpq/Pz8TNu2bc0333zjsp2kQssfrbVatWqF9jl27Nhi93ngwAHTvXt3Exoaajw8PExQUJC58847TVpaWrH7q1atmjHGmNmzZxtJJj093WWfBWOwbt06Z1t+fr556aWXTEREhPH09DRNmjQxy5cvLzR+xhiTnZ1tnnzySRMZGWnc3d1NWFiYefzxx82JEydc+kkygwYNMnPnzjV169Y13t7eplGjRmbp0qXOPmPHji1ynAtqW7NmjWnVqpWpXLmy8fLyMuHh4ea+++4zJ0+evOBzcX7d6enpRpJ5+eWXzSuvvGIiIyONj4+Padq0qdm0adMF91UgMzPT9O/f39x4443G3d3dREZGmnHjxpkzZ8649Bs3bpy57bbbzA033GD8/PxMkyZNzDvvvGPy8/ML7fODDz4wTZs2NT4+PsbHx8c0btzYvPPOOy7nUb9+fbN582Zzxx13GG9vb1O9enUTHx9v8vLyLlpzXl6eef31103jxo2Nl5eX8ff3N7fffrv55JNPnH3mz59v2rVrZ0JCQoyXl5epW7eueeaZZ1yez169ehX5PBW8tvLz882bb77pPE6lSpVM165dzYEDB1zqyc/PN5MmTXK+zqKjo82qVauKfJ0dPHjQ9OjRwwQGBhoPDw9Tt25dM2XKFJfzLnheX3rpJTNhwgQTGRlp3NzczNKlS42/v7/p379/oTFJT0835cqVM5MnT77o+OHPizCCUjt79qypUKGCuf322y95m/79+xtJZvDgwWblypUmISHBBAYGmvDwcPPjjz86+5U0jERGRpoePXqYZcuWmXnz5pmIiAhTu3Ztc/bsWWOMMbt27TLNmzc3ISEhZtOmTc7lj9a6bds28+ijjxpJZuXKlWbTpk2FgtW5oqKiTK1atcx7771nUlJSTGJionnyySedf6y3bdtmatSoYZo0aeKscdu2bcaYkoWRglDw6KOPmhUrVpgZM2aYG2+80YSEhLiM38mTJ83NN99sqlSpYl599VWzevVqM23aNOPv72/uvPNOlz+4BeN82223mQULFpjly5eb1q1bm/Llyzv/SB06dMgMGTLESDILFy50nkN2drZJT083Xl5epl27dmbx4sUmOTnZfPDBB6Znz57ml19+ueBzUVwYiYyMNP/zP/9jFi9ebBYvXmwaNmxobrjhBvPrr79ecH+ZmZkmPDzcVKtWzfzzn/80q1evNhMmTDCenp6md+/eLn179+5tZs6caZKSkkxSUpKZMGGC8fb2NuPHj3fpN2bMGCPJ3HfffeZf//qXWbVqlXn11VfNmDFjXM4jICDA1K5d2yQkJJikpCQzcOBAI8m8++67F6zZGGN69uxpHA6H6devn/nkk0/MihUrzKRJk8y0adOcfSZMmGBee+01s2zZMpOcnGwSEhJM9erVTZs2bZx9/vOf/5i//vWvRpLLz8Pp06eNMcb87W9/M+7u7ubJJ580K1euNB9++KGpW7euCQ4ONllZWc79jBw50kgy/fv3NytXrjRvv/22iYiIMKGhoS7P19GjR82NN95oAgMDTUJCglm5cqUZPHiwkWQee+yxQs/rjTfeaNq0aWM+/vhjs2rVKpOenm6GDRtmfHx8Cj23Tz31lPHy8jLHjh276Pjhz4swglLLysoykswDDzxwSf337NljJJmBAwe6tH/55ZdGkhk1apSzraRhpGPHji79FixY4PxFW6BTp07OqwyXs9aCP/znhqmiHDt2zEgyU6dOvWC/+vXrF/pfpTGXHkZ++eUX4+XlZe69916Xfp9//rmR5LLv+Ph4U65cObNlyxaXvh9//LGRZJYvX+5sk2SCg4PN8ePHnW1ZWVmmXLlyJj4+3tn28ssvF1lnwT63b99+wfMvSnFhpGHDhs7AaYwxmzdvNpLMvHnzLri/v//978bX19ccPHjQpX3KlClGktm1a1eR2+Xl5ZkzZ86YF154wQQEBDjD2rfffmvc3NxMjx49LnoeksyXX37p0l6vXj3Tvn37C267fv16I8mMHj36gv3OlZ+fb86cOWNSUlKMJPPVV185Hxs0aFCRVwc3bdpkJJlXXnnFpf3QoUPG29vbPP3008YYY37++Wfj6elpunfvXuT25z5fzz77bJHn/dhjjxmHw2H27t1rjPm/57VmzZomNzfXpe+BAwdMuXLlzGuvveZsO3XqlAkICDB9+vS55DHBnxMTWFFm1q1bJ0nq3bu3S/ttt92mm266SWvWrCn1vv/yl7+4rDdq1EiSdPDgwVLt70rUWrlyZdWsWVMvv/yyXn31VaWlpSk/P79U9V3Ipk2bdPr0afXo0cOlvVmzZqpWrZpL26effqoGDRro5ptv1tmzZ51L+/bt5XA4lJyc7NK/TZs28vPzc64HBwcrKCjoksb55ptvloeHh/r37693331X3377belP8v/r1KmT3NzcnOuX+rx/+umnatOmjcLCwlzOu0OHDpKklJQUZ9+1a9fqrrvukr+/v9zc3OTu7q7nn39eP/30k44ePSpJSkpKUl5engYNGnTRmkNCQnTbbbe5tDVq1OiiNa9YsUKSLnqMb7/9Vg899JBCQkKc9bZq1UqStGfPnovW9+mnn8rhcOjhhx92GZuQkBA1btzY+Zr44osvlJOTo/vvv99l+6ZNmyoyMtKlbe3atapXr16h8+7du7eMMVq7dq1L+1/+8he5u7u7tNWoUUN333233nrrLRljJP0+Kf2nn37S4MGDL3pe+HMjjKDUqlSpogoVKig9Pf2S+v/000+SpNDQ0EKPhYWFOR8vjYCAAJf1gslup06dKtX+rkStDodDa9asUfv27TV58mTdcsstCgwM1NChQ/Xbb7+Vqs6iFNQWEhJS6LHz244cOaIdO3bI3d3dZfHz85MxRseOHXPpf/44S7+P9aWMc82aNbV69WoFBQVp0KBBqlmzpmrWrKlp06aV5PQuWM+lPu9HjhzR0qVLC513/fr1Jcl53ps3b1ZcXJyk3z819vnnn2vLli0aPXq0y3F+/PFHSVLVqlVLXHNB3Rer+ccff5Sbm1uRz2uBEydOqEWLFvryyy81ceJEJScna8uWLVq4cKFLvRdy5MgRGWMUHBxcaHy++OIL59gUvM6Cg4ML7eP8tp9++qnYn6Vz91WgqL6S9Pjjj2v//v1KSkqSJL355puKjY3VLbfcctHzwp8bn6ZBqbm5ualt27ZasWKFvv/++4v+Ii74JZyZmVmo7w8//KAqVao41728vJSTk1NoH8eOHXPpd6WUpNaSqFatmmbOnClJ2rdvnxYsWKBx48YpNzdXCQkJF9zWy8tLkgqNS3GBISsrq9A+srKyXP7XWqVKFXl7e2vWrFlFHvNyj3WLFi3UokUL5eXlKTU1VW+88YaeeOIJBQcH64EHHrisx7qQKlWqqFGjRpo0aVKRjxf8kZw/f77c3d316aefOsdfkhYvXuzSPzAwUJL0/fffKzw8/IrUHBgYqLy8PGVlZRX7x3rt2rX64YcflJyc7LwaIqlEH7OuUqWKHA6HNmzYUOQnWAraCl5nR44cKdTn/NdZQECAMjMzC/X74YcfnMc8l8PhKLK2O++8Uw0aNNA//vEP+fr6atu2bXr//fcv7cTwp8aVEfwhI0eOlDFGf/vb35Sbm1vo8TNnzmjp0qWSfv9FIqnQL48tW7Zoz549atu2rbMtMjJSO3bscOm3b98+7d27t9S1Xur/4Etaa2nVqVNHzz33nBo2bKht27ZdtM6CX+7nj8uSJUtc1ps2bSovLy998MEHLu0bN24s9FbA3XffrQMHDiggIEAxMTGFlvMvt1+KS7k64ebmpttvv11vvvmmJLmcf1m4++679fXXX6tmzZpFnndBGHE4HCpfvrzLW0GnTp3Se++957K/uLg4ubm5afr06Ves5oK3kC50jII/4ueHiH/+85+F+hb3PN19990yxujw4cNFjk3Dhg0lSbfffrs8PT310UcfuWz/xRdfFHqdtW3bVrt37y70PM+dO1cOh0Nt2rQp9pzON3ToUC1btkwjR45UcHCwunXrdsnb4s+LKyP4Q2JjYzV9+nQNHDhQ0dHReuyxx1S/fn2dOXNGaWlpmjFjhho0aKDOnTsrKipK/fv31xtvvKFy5cqpQ4cO+u677zRmzBiFh4dr2LBhzv327NlTDz/8sAYOHKiuXbvq4MGDmjx5svN/oKXRsGFDLVy4UNOnT1d0dLTKlSunmJiYIvuWpNZLtWPHDg0ePFjdunVT7dq15eHhobVr12rHjh169tlnXeqcP3++PvroI9WoUUNeXl5q2LChbr31VkVFRWnEiBE6e/asbrjhBi1atEifffaZy3FuuOEGjRgxQhMnTlS/fv3UrVs3HTp0SOPGjSt0if+JJ55QYmKiWrZsqWHDhqlRo0bKz89XRkaGVq1apSeffFK33357ic6z4I/VtGnT1KtXL7m7uysqKkoffPCB1q5dq06dOikiIkKnT592XpG56667Sjyef8QLL7ygpKQkNWvWTEOHDlVUVJROnz6t7777TsuXL1dCQoKqVq2qTp066dVXX9VDDz2k/v3766efftKUKVMK/bGPjIzUqFGjNGHCBJ06dUoPPvig/P39tXv3bh07duyy3FysRYsW6tmzpyZOnKgjR47o7rvvlqenp9LS0lShQgUNGTJEzZo10w033KABAwZo7Nixcnd31wcffKCvvvqq0P4KnqeXXnpJHTp0kJubmxo1aqTmzZurf//+6tOnj1JTU9WyZUv5+PgoMzNTn332mRo2bKjHHntMlStX1vDhwxUfH68bbrhB9957r77//nuNHz9eoaGhKlfu//6vO2zYMM2dO1edOnXSCy+8oGrVqmnZsmV666239Nhjj6lOnTqXPA4PP/ywRo4cqfXr1+u5556Th4fHHx5b/AnYnD2La8f27dtNr169TEREhPHw8DA+Pj6mSZMm5vnnnzdHjx519iu4d0edOnWMu7u7qVKlinn44YcLfRw2Pz/fTJ482dSoUcN4eXmZmJgYs3bt2mI/TfOvf/3LZfuCWfmzZ892tv3888/mr3/9q6lUqZJxOByXfJ+Ri9V6qZ+mOXLkiOndu7epW7eu8fHxMb6+vqZRo0bmtddec/lEyHfffWfi4uKMn5+fy31GjDFm3759Ji4uzlSsWNEEBgaaIUOGmGXLlhV5n5H4+HgTHh5uPDw8nPcDKer+DydOnDDPPfec834q/v7+pmHDhmbYsGEuH+PU/7/PyPmK+uTTyJEjTVhYmClXrpyztk2bNpl7773XVKtWzXh6epqAgADTqlUrs2TJkguOmzEXvs/I+XSRe70U+PHHH83QoUNN9erVjbu7u6lcubKJjo42o0ePdrknx6xZs0xUVJTx9PQ0NWrUMPHx8WbmzJlFfmJo7ty55tZbbzVeXl7G19fXNGnSxOU1WHCfkfP16tXrkj7plZeXZ1577TXToEED53MVGxvrcq+XjRs3mtjYWFOhQgUTGBho+vXrZ7Zt21bo5yEnJ8f069fPBAYGOn8ezj2fWbNmmdtvv934+PgYb29vU7NmTfPII4+Y1NRUZ5/8/HwzceJEU7VqVefr7NNPPzWNGzcu9GmugwcPmoceesgEBAQYd3d3ExUVZV5++eUi7zNS1PN6rt69e5vy5cub77///qJjhquDw5j/Py0ZAIA/KD09XXXr1tXYsWM1atSoy77/3NxcRUZG6o477tCCBQsu+/5hB2/TAABK5auvvtK8efPUrFkzVaxYUXv37tXkyZNVsWLFy/6dVD/++KP27t2r2bNn68iRIy5vbeLqRxgBAJSKj4+PUlNTNXPmTP3666/y9/dX69atNWnSpCI/8vtHLFu2TH369FFoaKjeeustPs57jeFtGgAAYBUf7QUAAFYRRgAAgFWEEQAAYNVVMYE1Pz9fP/zwg/z8/Iq9TTAAAPhzMcbot99+U1hYmMuN8M53VYSRH3744Yp93wMAALiyDh06dMHvL7sqwkjBV5YfOnRIFStWtFwNAAC4FMePH1d4eLjz73hxroowUvDWTMWKFQkjAABcZS42xYIJrAAAwCrCCAAAsIowAgAArCKMAAAAqwgjAADAKsIIAACwijACAACsIowAAACrCCMAAMAqwggAALCqRGFk+vTpatSokfO27LGxsVqxYsUFt0lJSVF0dLS8vLxUo0YNJSQk/KGCAQDAtaVEYaRq1ap68cUXlZqaqtTUVN15553q0qWLdu3aVWT/9PR0dezYUS1atFBaWppGjRqloUOHKjEx8bIUDwAArn4OY4z5IzuoXLmyXn75ZT366KOFHnvmmWe0ZMkS7dmzx9k2YMAAffXVV9q0adMlH+P48ePy9/dXdnY2X5QHAMBV4lL/fpd6zkheXp7mz5+vkydPKjY2tsg+mzZtUlxcnEtb+/btlZqaqjNnzpT20AAA4BpSvqQb7Ny5U7GxsTp9+rR8fX21aNEi1atXr8i+WVlZCg4OdmkLDg7W2bNndezYMYWGhha5XU5OjnJycpzrx48fL2mZAADgKlHiMBIVFaXt27fr119/VWJionr16qWUlJRiA4nD4XBZL3hX6Pz2c8XHx2v8+PElLQ2ApPGOq+9nZ6wZa7sEABaV+G0aDw8P1apVSzExMYqPj1fjxo01bdq0IvuGhIQoKyvLpe3o0aMqX768AgICij3GyJEjlZ2d7VwOHTpU0jIBAMBVosRXRs5njHF5S+VcsbGxWrp0qUvbqlWrFBMTI3d392L36enpKU9Pzz9aGgAAuAqU6MrIqFGjtGHDBn333XfauXOnRo8ereTkZPXo0UPS71c0HnnkEWf/AQMG6ODBgxo+fLj27NmjWbNmaebMmRoxYsTlPQsAAHDVKtGVkSNHjqhnz57KzMyUv7+/GjVqpJUrV6pdu3aSpMzMTGVkZDj7V69eXcuXL9ewYcP05ptvKiwsTK+//rq6du16ec8CAABctf7wfUbKAvcZAS4dE1gB/Flc8fuMAAAAXA6EEQAAYBVhBAAAWEUYAQAAVhFGAACAVYQRAABgFWEEAABYRRgBAABWEUYAAIBVhBEAAGAVYQQAAFhFGAEAAFYRRgAAgFWEEQAAYBVhBAAAWEUYAQAAVhFGAACAVYQRAABgFWEEAABYRRgBAABWEUYAAIBVhBEAAGAVYQQAAFhFGAEAAFYRRgAAgFWEEQAAYBVhBAAAWEUYAQAAVhFGAACAVYQRAABgFWEEAABYRRgBAABWEUYAAIBVhBEAAGAVYQQAAFhFGAEAAFYRRgAAgFWEEQAAYBVhBAAAWEUYAQAAVhFGAACAVYQRAABgFWEEAABYRRgBAABWEUYAAIBVhBEAAGAVYQQAAFhFGAEAAFaVKIzEx8fr1ltvlZ+fn4KCgnTPPfdo7969F9wmOTlZDoej0PLNN9/8ocIBAMC1oURhJCUlRYMGDdIXX3yhpKQknT17VnFxcTp58uRFt927d68yMzOdS+3atUtdNAAAuHaUL0nnlStXuqzPnj1bQUFB2rp1q1q2bHnBbYOCglSpUqUSFwgAAK5tf2jOSHZ2tiSpcuXKF+3bpEkThYaGqm3btlq3bt0F++bk5Oj48eMuCwAAuDaVOowYYzR8+HDdcccdatCgQbH9QkNDNWPGDCUmJmrhwoWKiopS27ZttX79+mK3iY+Pl7+/v3MJDw8vbZkAAOBPzmGMMaXZcNCgQVq2bJk+++wzVa1atUTbdu7cWQ6HQ0uWLCny8ZycHOXk5DjXjx8/rvDwcGVnZ6tixYqlKRe4box3jLddQomNNWNtlwDgCjh+/Lj8/f0v+ve7VFdGhgwZoiVLlmjdunUlDiKS1LRpU+3fv7/Yxz09PVWxYkWXBQAAXJtKNIHVGKMhQ4Zo0aJFSk5OVvXq1Ut10LS0NIWGhpZqWwAAcG0pURgZNGiQPvzwQ33yySfy8/NTVlaWJMnf31/e3t6SpJEjR+rw4cOaO3euJGnq1KmKjIxU/fr1lZubq/fff1+JiYlKTEy8zKcCAACuRiUKI9OnT5cktW7d2qV99uzZ6t27tyQpMzNTGRkZzsdyc3M1YsQIHT58WN7e3qpfv76WLVumjh07/rHKAQDANaHUE1jL0qVOgAHABFYAfx5XdAIrAADA5UIYAQAAVhFGAACAVYQRAABgFWEEAABYRRgBAABWEUYAAIBVhBEAAGAVYQQAAFhFGAEAAFYRRgAAgFWEEQAAYBVhBAAAWEUYAQAAVhFGAACAVYQRAABgFWEEAABYRRgBAABWEUYAAIBVhBEAAGAVYQQAAFhFGAEAAFYRRgAAgFWEEQAAYBVhBAAAWEUYAQAAVhFGAACAVYQRAABgFWEEAABYRRgBAABWEUYAAIBVhBEAAGAVYQQAAFhFGAEAAFYRRgAAgFWEEQAAYBVhBAAAWEUYAQAAVhFGAACAVYQRAABgFWEEAABYRRgBAABWEUYAAIBVhBEAAGAVYQQAAFhFGAEAAFYRRgAAgFWEEQAAYFWJwkh8fLxuvfVW+fn5KSgoSPfcc4/27t170e1SUlIUHR0tLy8v1ahRQwkJCaUuGAAAXFtKFEZSUlI0aNAgffHFF0pKStLZs2cVFxenkydPFrtNenq6OnbsqBYtWigtLU2jRo3S0KFDlZiY+IeLBwAAV7/yJem8cuVKl/XZs2crKChIW7duVcuWLYvcJiEhQREREZo6daok6aabblJqaqqmTJmirl27lq5qAABwzfhDc0ays7MlSZUrVy62z6ZNmxQXF+fS1r59e6WmpurMmTNFbpOTk6Pjx4+7LAAA4NpUoisj5zLGaPjw4brjjjvUoEGDYvtlZWUpODjYpS04OFhnz57VsWPHFBoaWmib+Ph4jR8/vrSlXfPGO67OsRlrxtouAQDwJ1TqKyODBw/Wjh07NG/evIv2dTgcLuvGmCLbC4wcOVLZ2dnO5dChQ6UtEwAA/MmV6srIkCFDtGTJEq1fv15Vq1a9YN+QkBBlZWW5tB09elTly5dXQEBAkdt4enrK09OzNKUBAICrTImujBhjNHjwYC1cuFBr165V9erVL7pNbGyskpKSXNpWrVqlmJgYubu7l6xaAABwzSlRGBk0aJDef/99ffjhh/Lz81NWVpaysrJ06tQpZ5+RI0fqkUceca4PGDBABw8e1PDhw7Vnzx7NmjVLM2fO1IgRIy7fWQAAgKtWicLI9OnTlZ2drdatWys0NNS5fPTRR84+mZmZysjIcK5Xr15dy5cvV3Jysm6++WZNmDBBr7/+Oh/rBQAAkko4Z6Rg4umFzJkzp1Bbq1attG3btpIcCgAAXCf4bhoAAGAVYQQAAFhFGAEAAFYRRgAAgFWEEQAAYBVhBAAAWEUYAQAAVhFGAACAVYQRAABgFWEEAABYRRgBAABWEUYAAIBVhBEAAGAVYQQAAFhFGAEAAFYRRgAAgFWEEQAAYBVhBAAAWEUYAQAAVhFGAACAVYQRAABgFWEEAABYRRgBAABWEUYAAIBVhBEAAGAVYQQAAFhFGAEAAFYRRgAAgFWEEQAAYBVhBAAAWEUYAQAAVhFGAACAVYQRAABgFWEEAABYRRgBAABWEUYAAIBVhBEAAGAVYQQAAFhFGAEAAFYRRgAAgFWEEQAAYBVhBAAAWEUYAQAAVhFGAACAVYQRAABgFWEEAABYRRgBAABWlTiMrF+/Xp07d1ZYWJgcDocWL158wf7JyclyOByFlm+++aa0NQMAgGtI+ZJucPLkSTVu3Fh9+vRR165dL3m7vXv3qmLFis71wMDAkh4aAABcg0ocRjp06KAOHTqU+EBBQUGqVKlSibcDAADXtjKbM9KkSROFhoaqbdu2WrduXVkdFgAA/MmV+MpISYWGhmrGjBmKjo5WTk6O3nvvPbVt21bJyclq2bJlkdvk5OQoJyfHuX78+PErXSYAALDkioeRqKgoRUVFOddjY2N16NAhTZkypdgwEh8fr/Hjx1/p0gAAwJ+AlY/2Nm3aVPv37y/28ZEjRyo7O9u5HDp0qAyrAwAAZemKXxkpSlpamkJDQ4t93NPTU56enmVYEQAAsKXEYeTEiRP6z3/+41xPT0/X9u3bVblyZUVERGjkyJE6fPiw5s6dK0maOnWqIiMjVb9+feXm5ur9999XYmKiEhMTL99ZAACAq1aJw0hqaqratGnjXB8+fLgkqVevXpozZ44yMzOVkZHhfDw3N1cjRozQ4cOH5e3trfr162vZsmXq2LHjZSgfAABc7UocRlq3bi1jTLGPz5kzx2X96aef1tNPP13iwgAAwPWB76YBAABWEUYAAIBVhBEAAGAVYQQAAFhFGAEAAFYRRgAAgFWEEQAAYBVhBAAAWEUYAQAAVhFGAACAVYQRAABgFWEEAABYRRgBAABWEUYAAIBVhBEAAGAVYQQAAFhFGAEAAFYRRgAAgFWEEQAAYBVhBAAAWEUYAQAAVhFGAACAVYQRAABgFWEEAABYRRgBAABWEUYAAIBVhBEAAGAVYQQAAFhFGAEAAFYRRgAAgFWEEQAAYBVhBAAAWEUYAQAAVhFGAACAVYQRAABgFWEEAABYRRgBAABWEUYAAIBVhBEAAGAVYQQAAFhFGAEAAFYRRgAAgFWEEQAAYBVhBAAAWEUYAQAAVhFGAACAVYQRAABgFWEEAABYVeIwsn79enXu3FlhYWFyOBxavHjxRbdJSUlRdHS0vLy8VKNGDSUkJJSmVgAAcA0qcRg5efKkGjdurH/84x+X1D89PV0dO3ZUixYtlJaWplGjRmno0KFKTEwscbEAAODaU76kG3To0EEdOnS45P4JCQmKiIjQ1KlTJUk33XSTUlNTNWXKFHXt2rWkhwcAANeYKz5nZNOmTYqLi3Npa9++vVJTU3XmzJkit8nJydHx48ddFgAAcG0q8ZWRksrKylJwcLBLW3BwsM6ePatjx44pNDS00Dbx8fEaP378lS5NkjTeUTbHwdU51mPNWNslAJfN1fgziLJh+3ddmXyaxuFwuKwbY4psLzBy5EhlZ2c7l0OHDl3xGgEAgB1X/MpISEiIsrKyXNqOHj2q8uXLKyAgoMhtPD095enpeaVLAwAAfwJX/MpIbGyskpKSXNpWrVqlmJgYubu7X+nDAwCAP7kSh5ETJ05o+/bt2r59u6TfP7q7fft2ZWRkSPr9LZZHHnnE2X/AgAE6ePCghg8frj179mjWrFmaOXOmRowYcXnOAAAAXNVK/DZNamqq2rRp41wfPny4JKlXr16aM2eOMjMzncFEkqpXr67ly5dr2LBhevPNNxUWFqbXX3+dj/UCAABJpQgjrVu3dk5ALcqcOXMKtbVq1Urbtm0r6aEAAMB1gO+mAQAAVhFGAACAVYQRAABgFWEEAABYRRgBAABWEUYAAIBVhBEAAGAVYQQAAFhFGAEAAFYRRgAAgFWEEQAAYBVhBAAAWEUYAQAAVhFGAACAVYQRAABgFWEEAABYRRgBAABWEUYAAIBVhBEAAGAVYQQAAFhFGAEAAFYRRgAAgFWEEQAAYBVhBAAAWEUYAQAAVhFGAACAVYQRAABgFWEEAABYRRgBAABWEUYAAIBVhBEAAGAVYQQAAFhFGAEAAFYRRgAAgFWEEQAAYBVhBAAAWEUYAQAAVhFGAACAVYQRAABgFWEEAABYRRgBAABWEUYAAIBVhBEAAGAVYQQAAFhFGAEAAFYRRgAAgFWEEQAAYBVhBAAAWFWqMPLWW2+pevXq8vLyUnR0tDZs2FBs3+TkZDkcjkLLN998U+qiAQDAtaPEYeSjjz7SE088odGjRystLU0tWrRQhw4dlJGRccHt9u7dq8zMTOdSu3btUhcNAACuHSUOI6+++qoeffRR9evXTzfddJOmTp2q8PBwTZ8+/YLbBQUFKSQkxLm4ubmVumgAAHDtKFEYyc3N1datWxUXF+fSHhcXp40bN15w2yZNmig0NFRt27bVunXrLtg3JydHx48fd1kAAMC1qURh5NixY8rLy1NwcLBLe3BwsLKysorcJjQ0VDNmzFBiYqIWLlyoqKgotW3bVuvXry/2OPHx8fL393cu4eHhJSkTAABcRcqXZiOHw+Gybowp1FYgKipKUVFRzvXY2FgdOnRIU6ZMUcuWLYvcZuTIkRo+fLhz/fjx4wQSAACuUSW6MlKlShW5ubkVugpy9OjRQldLLqRp06bav39/sY97enqqYsWKLgsAALg2lSiMeHh4KDo6WklJSS7tSUlJatas2SXvJy0tTaGhoSU5NAAAuEaV+G2a4cOHq2fPnoqJiVFsbKxmzJihjIwMDRgwQNLvb7EcPnxYc+fOlSRNnTpVkZGRql+/vnJzc/X+++8rMTFRiYmJl/dMAADAVanEYaR79+766aef9MILLygzM1MNGjTQ8uXLVa1aNUlSZmamyz1HcnNzNWLECB0+fFje3t6qX7++li1bpo4dO16+swAAAFetUk1gHThwoAYOHFjkY3PmzHFZf/rpp/X000+X5jAAAOA6wHfTAAAAqwgjAADAKsIIAACwijACAACsIowAAACrCCMAAMAqwggAALCKMAIAAKwijAAAAKsIIwAAwCrCCAAAsIowAgAArCKMAAAAqwgjAADAKsIIAACwijACAACsIowAAACrCCMAAMAqwggAALCKMAIAAKwijAAAAKsIIwAAwCrCCAAAsIowAgAArCKMAAAAqwgjAADAKsIIAACwijACAACsIowAAACrCCMAAMAqwggAALCKMAIAAKwijAAAAKsIIwAAwCrCCAAAsIowAgAArCKMAAAAqwgjAADAKsIIAACwijACAACsIowAAACrCCMAAMAqwggAALCKMAIAAKwijAAAAKsIIwAAwCrCCAAAsKpUYeStt95S9erV5eXlpejoaG3YsOGC/VNSUhQdHS0vLy/VqFFDCQkJpSoWAABce0ocRj766CM98cQTGj16tNLS0tSiRQt16NBBGRkZRfZPT09Xx44d1aJFC6WlpWnUqFEaOnSoEhMT/3DxAADg6lfiMPLqq6/q0UcfVb9+/XTTTTdp6tSpCg8P1/Tp04vsn5CQoIiICE2dOlU33XST+vXrp759+2rKlCl/uHgAAHD1K1EYyc3N1datWxUXF+fSHhcXp40bNxa5zaZNmwr1b9++vVJTU3XmzJkSlgsAAK415UvS+dixY8rLy1NwcLBLe3BwsLKysorcJisrq8j+Z8+e1bFjxxQaGlpom5ycHOXk5DjXs7OzJUnHjx8vSbmX5LROX/Z94tpxJV5zV9rV+Jq+Gsf5anQ1vjZQNq7Uz2DBfo0xF+xXojBSwOFwuKwbYwq1Xax/Ue0F4uPjNX78+ELt4eHhJS0V+ENe9H/RdgnXBcYZsOtK/wz+9ttv8vf3L/bxEoWRKlWqyM3NrdBVkKNHjxa6+lEgJCSkyP7ly5dXQEBAkduMHDlSw4cPd67n5+fr559/VkBAwAVDT0kdP35c4eHhOnTokCpWrHjZ9ns1ud7H4Ho/f4kx4Pyv7/OXGIMref7GGP32228KCwu7YL8ShREPDw9FR0crKSlJ9957r7M9KSlJXbp0KXKb2NhYLV261KVt1apViomJkbu7e5HbeHp6ytPT06WtUqVKJSm1RCpWrHhdvgDPdb2PwfV+/hJjwPlf3+cvMQZX6vwvdEWkQIk/TTN8+HC98847mjVrlvbs2aNhw4YpIyNDAwYMkPT7VY1HHnnE2X/AgAE6ePCghg8frj179mjWrFmaOXOmRowYUdJDAwCAa1CJ54x0795dP/30k1544QVlZmaqQYMGWr58uapVqyZJyszMdLnnSPXq1bV8+XINGzZMb775psLCwvT666+ra9eul+8sAADAVatUE1gHDhyogQMHFvnYnDlzCrW1atVK27ZtK82hrihPT0+NHTu20FtC15PrfQyu9/OXGAPO//o+f4kx+DOcv8Nc7PM2AAAAVxBflAcAAKwijAAAAKsIIwAAwCrCCAAAsOq6DSPr169X586dFRYWJofDocWLF9suqczEx8fr1ltvlZ+fn4KCgnTPPfdo7969tssqU9OnT1ejRo2cN/mJjY3VihUrbJdlTXx8vBwOh5544gnbpZSZcePGyeFwuCwhISG2yypThw8f1sMPP6yAgABVqFBBN998s7Zu3Wq7rDITGRlZ6DXgcDg0aNAg26WVibNnz+q5555T9erV5e3trRo1auiFF15Qfn5+mddSqo/2XgtOnjypxo0bq0+fPtfdPU9SUlI0aNAg3XrrrTp79qxGjx6tuLg47d69Wz4+PrbLKxNVq1bViy++qFq1akmS3n33XXXp0kVpaWmqX7++5erK1pYtWzRjxgw1atTIdillrn79+lq9erVz3c3NzWI1ZeuXX35R8+bN1aZNG61YsUJBQUE6cODAFb3b9Z/Nli1blJeX51z/+uuv1a5dO3Xr1s1iVWXnpZdeUkJCgt59913Vr19fqamp6tOnj/z9/fX444+XaS3XbRjp0KGDOnToYLsMK1auXOmyPnv2bAUFBWnr1q1q2bKlparKVufOnV3WJ02apOnTp+uLL764rsLIiRMn1KNHD7399tuaOHGi7XLKXPny5a+7qyEFXnrpJYWHh2v27NnOtsjISHsFWRAYGOiy/uKLL6pmzZpq1aqVpYrK1qZNm9SlSxd16tRJ0u/P/7x585SamlrmtVy3b9Pg/2RnZ0uSKleubLkSO/Ly8jR//nydPHlSsbGxtsspU4MGDVKnTp1011132S7Fiv379yssLEzVq1fXAw88oG+//dZ2SWVmyZIliomJUbdu3RQUFKQmTZro7bfftl2WNbm5uXr//ffVt2/fy/qFrH9md9xxh9asWaN9+/ZJkr766it99tln6tixY5nXct1eGcHvjDEaPny47rjjDjVo0MB2OWVq586dio2N1enTp+Xr66tFixapXr16tssqM/Pnz9e2bdu0ZcsW26VYcfvtt2vu3LmqU6eOjhw5ookTJ6pZs2batWtXsd8ofi359ttvNX36dA0fPlyjRo3S5s2bNXToUHl6erp8v9j1YvHixfr111/Vu3dv26WUmWeeeUbZ2dmqW7eu3NzclJeXp0mTJunBBx8s+2IMjCSzaNEi22VYMXDgQFOtWjVz6NAh26WUuZycHLN//36zZcsW8+yzz5oqVaqYXbt22S6rTGRkZJigoCCzfft2Z1urVq3M448/bq8oy06cOGGCg4PNK6+8YruUMuHu7m5iY2Nd2oYMGWKaNm1qqSK74uLizN133227jDI1b948U7VqVTNv3jyzY8cOM3fuXFO5cmUzZ86cMq+FKyPXsSFDhmjJkiVav369qlatarucMufh4eGcwBoTE6MtW7Zo2rRp+uc//2m5sitv69atOnr0qKKjo51teXl5Wr9+vf7xj38oJyfnuprMKUk+Pj5q2LCh9u/fb7uUMhEaGlroSuBNN92kxMRESxXZc/DgQa1evVoLFy60XUqZeuqpp/Tss8/qgQcekCQ1bNhQBw8eVHx8vHr16lWmtRBGrkPGGA0ZMkSLFi1ScnKyqlevbrukPwVjjHJycmyXUSbatm2rnTt3urT16dNHdevW1TPPPHPdBRFJysnJ0Z49e9SiRQvbpZSJ5s2bF/pI/759+5zfwH49KZjEXzCR83rx3//+V+XKuU4ddXNz46O9ZenEiRP6z3/+41xPT0/X9u3bVblyZUVERFis7MobNGiQPvzwQ33yySfy8/NTVlaWJMnf31/e3t6Wqysbo0aNUocOHRQeHq7ffvtN8+fPV3JycqFPGl2r/Pz8Cs0R8vHxUUBAwHUzd2jEiBHq3LmzIiIidPToUU2cOFHHjx8v8/8R2jJs2DA1a9ZM//u//6v7779fmzdv1owZMzRjxgzbpZWp/Px8zZ49W7169VL58tfXn8TOnTtr0qRJioiIUP369ZWWlqZXX31Vffv2LftiyvyNoT+JdevWGUmFll69etku7Yor6rwlmdmzZ9surcz07dvXVKtWzXh4eJjAwEDTtm1bs2rVKttlWXW9zRnp3r27CQ0NNe7u7iYsLMzcd999182coQJLly41DRo0MJ6enqZu3bpmxowZtksqc//+97+NJLN3717bpZS548ePm8cff9xEREQYLy8vU6NGDTN69GiTk5NT5rU4jDGm7CMQAADA77jPCAAAsIowAgAArCKMAAAAqwgjAADAKsIIAACwijACAACsIowAAACrCCPAdc7hcGjx4sW2y8BllJycLIfDoV9//bXIx7/77js5HA5t3769TOsCikMYwVWjd+/euueeewq1X+wXL3C1mjNnjipVqnTZ9xseHq7MzMzLfuv/mTNnKjo6Wr6+voqIiNBrr712WfePa9f1dSN+ANe13NxceXh42C7DOjc3N4WEhFz2/a5du1ZjxoxRo0aNtGbNGv3973/XLbfcolatWl32Y+HawpURXJMSExNVv359eXp6KjIyUq+88orzsTfeeEMNGzZ0ri9evFgOh0Nvvvmms619+/YaOXJkkfsuuMS9YMECtWjRQt7e3rr11lu1b98+bdmyRTExMfL19dX//M//6Mcff3Rut2XLFrVr105VqlSRv7+/WrVqpW3btrns2+Fw6J133tG9996rChUqqHbt2lqyZImk379VuFatWpoyZYrLNl9//bXKlSunAwcOFDses2bNco5HaGioBg8eXGzfZ555RnXq1FGFChVUo0YNjRkzRmfOnHE+/tVXX6lNmzby8/NTxYoVFR0drdTUVEm/fxV7586ddcMNN8jHx0f169fX8uXLndvu3r1bHTt2lK+vr4KDg9WzZ08dO3bM+fjHH3+shg0bytvbWwEBAbrrrrt08uTJIuvMy8vTo48+qurVq8vb21tRUVGaNm2aS5+Cq2nx8fEKCwtTnTp1JEmHDx9W9+7ddcMNNyggIEBdunTRd999V+RxLnXcMzIy1KVLF/n6+qpixYq6//77deTIkUK1nOuJJ55Q69atizxucnKy+vTpo+zsbDkcDjkcDo0bN06S9P777ysmJkZ+fn4KCQnRQw89pKNHjxa5H0k6deqUOnXqpKZNm+rnn38u9DZNwdXFNWvWKCYmRhUqVFCzZs0KfavvxIkTFRQUJD8/P/Xr10/PPvusbr75ZufjH3zwge655x7VqFFD/fr1U8WKFXXo0KFi6wIKEEZwzdm6davuv/9+PfDAA9q5c6fGjRunMWPGaM6cOZKk1q1ba9euXc4/gikpKapSpYpSUlIkSWfPntXGjRsv+r+5sWPH6rnnntO2bdtUvnx5Pfjgg3r66ac1bdo0bdiwQQcOHNDzzz/v7P/bb7+pV69e2rBhg7744gvVrl1bHTt21G+//eay3/Hjx+v+++/Xjh071LFjR/Xo0UM///yzHA6H+vbtq9mzZ7v0nzVrllq0aKGaNWsWWef06dM1aNAg9e/fXzt37tSSJUtUq1atYs/Lz89Pc+bM0e7duzVt2jS9/fbbLpfbe/TooapVq2rLli3aunWrnn32Wbm7u0v6/Ruhc3JytH79eu3cuVMvvfSSfH19JUmZmZlq1aqVbr75ZqWmpmrlypU6cuSI7r//fufjDz74oPr27as9e/YoOTlZ9913n4r7+qz8/HxVrVpVCxYs0O7du/X8889r1KhRWrBggUu/NWvWaM+ePUpKStKnn36q//73v2rTpo18fX21fv16ffbZZ87wmJubW+g4lzLuxhjdc889+vnnn5WSkqKkpCQdOHBA3bt3L3acL6ZZs2aaOnWqKlasqMzMTGVmZmrEiBGSfr/CM2HCBH311VdavHix0tPT1bt37yL3k52drbi4OOXm5mrNmjWqXLlyscccPXq0XnnlFaWmpqp8+fIu3976wQcfaNKkSXrppZe0detWRUREaPr06cXua9y4capQoYI6dOhQugHA9aXMv5oPKKVevXoZNzc34+Pj47J4eXkZSeaXX34xxhjz0EMPmXbt2rls+9RTT5l69eoZY4zJz883VapUMR9//LExxpibb77ZxMfHm6CgIGOMMRs3bjTly5c3v/32W5F1pKenG0nmnXfecbbNmzfPSDJr1qxxtsXHx5uoqKhiz+fs2bPGz8/PLF261NkmyTz33HPO9RMnThiHw2FWrFhhjDHmhx9+MG5ububLL780xhiTm5trAgMDzZw5c4o9TlhYmBk9enSxj0syixYtKvbxyZMnm+joaOe6n59fscdr2LChGTduXJGPjRkzxsTFxbm0HTp0yPmNqVu3bjWSzHfffVdsLRczcOBA07VrV+d6r169THBwsMu3kM6cOdNERUWZ/Px8Z1tOTo7x9vY2//73v4vc78XGfdWqVcbNzc1kZGQ4t9m1a5eRZDZv3uyspUuXLi77ffzxx02rVq2KPZ/Zs2cbf3//i5735s2bjSTna7bgW8m/+eYb07hxY3Pfffe5jEHBazgtLc2l/+rVq519li1bZiSZU6dOGWOMuf32282gQYNcjtu8eXPTuHHjQvWMHz/eBAcHm6+//vqitQPGGMOVEVxV2rRpo+3bt7ss77zzjkufPXv2qHnz5i5tzZs31/79+5WXlyeHw6GWLVsqOTlZv/76q3bt2qUBAwYoLy/P+T/yW265xfk/+uI0atTI+e/g4GBJcnn7Jzg42OXS+dGjRzVgwADVqVNH/v7+8vf314kTJ5SRkVHsfn18fOTn5+fcT2hoqDp16qRZs2ZJkj799FOdPn1a3bp1K7LGo0eP6ocfflDbtm0veC7n+vjjj3XHHXcoJCREvr6+GjNmjEuNw4cPV79+/XTXXXfpxRdfdHl7aOjQoZo4caKaN2+usWPHaseOHc7Htm7dqnXr1snX19e51K1bV5J04MABNW7cWG3btlXDhg3VrVs3vf322/rll18uWGtCQoJiYmIUGBgoX19fvf3224XGs2HDhi7zRLZu3ar//Oc/8vPzc9ZRuXJlnT59uti3ui427nv27FF4eLjCw8Od29SrV0+VKlXSnj17LngOpZGWlqYuXbqoWrVq8vPzc77Vc/6533XXXapRo4YWLFhwSXNlzn3thYaGSpLztbd3717ddtttLv3PX5ekX3/9VePGjdO7776r+vXrl+i8cP0ijOCq4uPjo1q1arksN954o0sfY4wcDkehtnO1bt1aycnJ2rBhgxo3bqxKlSqpZcuWSklJUXJycrHv45+r4K0JSc7jnd+Wn5/vXO/du7e2bt2qqVOnauPGjdq+fbsCAgIKvTVw7j6K2k+/fv00f/58nTp1SrNnz1b37t1VoUKFImv09va+6Hmc64svvtADDzygDh066NNPP1VaWppGjx7tUuO4ceO0a9cuderUSWvXrlW9evW0aNEiZ23ffvutevbsqZ07dyomJkZvvPGGpN/fVuncuXOhMLl//361bNlSbm5uSkpK0ooVK1SvXj298cYbioqKUnp6epG1LliwQMOGDVPfvn21atUqbd++XX369Ck0nj4+Pi7r+fn5io6OLlTHvn379NBDDxU7Nhca96Jec+e3lytXrtDr8Ny5OJfq5MmTiouLk6+vr95//31t2bLFOf7nn3unTp20YcMG7d69+5L2XdRr+tzX3sV+rqTf5w0ZYxQVFXVpJwSIMIJrUL169fTZZ5+5tG3cuFF16tSRm5ubpP+bN/Lxxx87g0erVq20evXqS5ovUhobNmzQ0KFD1bFjR+dk0nMnb16qjh07ysfHR9OnT9eKFStc3tc/n5+fnyIjI7VmzZpL2vfnn3+uatWqafTo0YqJiVHt2rV18ODBQv3q1KmjYcOGadWqVbrvvvtc5lOEh4drwIABWrhwoZ588km9/fbbkqRbbrlFu3btUmRkZKFAWRAYHA6HmjdvrvHjxystLU0eHh7OP7Tn27Bhg5o1a6aBAweqSZMmqlWr1gUn8Ra45ZZbtH//fgUFBRWqw9/fv9jtLjTu9erVU0ZGhstkzd27dys7O1s33XSTJCkwMFCZmZku+7zYfT48PDyUl5fn0vbNN9/o2LFjevHFF9WiRQvVrVu32MmrL774onr16qW2bdteciApTlRUlDZv3uzSVjBx+Vx16tTRli1bFBYW9oeOh+sLYQTXnCeffFJr1qzRhAkTtG/fPr377rv6xz/+4Zz8J0kNGjRQQECAPvjgA2cYad26tRYvXqxTp07pjjvuuOx11apVS++995727NmjL7/8Uj169CjxlQvp949l9u7dWyNHjlStWrUUGxt7wf7jxo3TK6+8otdff1379+/Xtm3bnFcriqoxIyND8+fP14EDB/T666+7hIFTp05p8ODBSk5O1sGDB/X5559ry5Ytzj+4TzzxhP79738rPT1d27Zt09q1a52PDRo0SD///LMefPBBbd68Wd9++61WrVqlvn37Ki8vT19++aX+93//V6mpqcrIyNDChQv1448/OrcvqtbU1FT9+9//1r59+zRmzBht2bLlouPXo0cPValSRV26dNGGDRuUnp6ulJQUPf744/r++++L3e5C437XXXepUaNG6tGjh7Zt26bNmzfrkUceUatWrRQTEyNJuvPOO5Wamqq5c+dq//79Gjt2rL7++usL1hoZGakTJ05ozZo1OnbsmP773/8qIiJCHh4eeuONN/Ttt99qyZIlmjBhQrH7mDJlinr06KE777xT33zzzUXHpzhDhgzRzJkz9e6772r//v2aOHGiduzYUehqyc6dO/Xwww+7fJIMuCiL81WAEilqAqAx/zf5rmACqzHGfPzxx6ZevXrG3d3dREREmJdffrnQdl27djVubm4mOzvbGPP7xNbKlSubmJiYC9Zx/uS/4mo4f/Lhtm3bTExMjPH09DS1a9c2//rXv0y1atXMa6+95uyjIiaT+vv7m9mzZ7u0HThwwEgykydPvmCtBRISEkxUVJRxd3c3oaGhZsiQIcUe86mnnjIBAQHG19fXdO/e3bz22mvO88jJyTEPPPCACQ8PNx4eHiYsLMwMHjzYOclx8ODBpmbNmsbT09MEBgaanj17mmPHjjn3vW/fPnPvvfeaSpUqGW9vb1O3bl3zxBNPmPz8fLN7927Tvn17ExgYaDw9PU2dOnXMG2+8Uew5nT592vTu3dv4+/ubSpUqmccee8w8++yzLhMqi3vNZGZmmkceecRUqVLFeHp6mho1api//e1vztdCcS407gcPHjR/+ctfjI+Pj/Hz8zPdunUzWVlZLn2ef/55ExwcbPz9/c2wYcPM4MGDLziB1RhjBgwYYAICAowkM3bsWGOMMR9++KGJjIw0np6eJjY21ixZsqTICannvh6HDBliQkNDzd69e4udwHpu/7S0NCPJpKenO9teeOEFU6VKFePr62v69u1rhg4dapo2bepSb8G+zt0OuBiHMcV8bg7An9bnn3+u1q1b6/vvv3dOnsWVx7i7ateunUJCQvTee+/ZLgVXOe7AClxFcnJydOjQIY0ZM0b3338/fxDLCOMu/fe//1VCQoLat28vNzc3zZs3T6tXr1ZSUpLt0nANYM4IcBWZN2+eoqKilJ2drcmTJ9su57rBuP8+uXj58uVq0aKFoqOjtXTpUiUmJuquu+6yXRquAbxNAwAArOLKCAAAsIowAgAArCKMAAAAqwgjAADAKsIIAACwijACAACsIowAAACrCCMAAMAqwggAALDq/wGPBqaDSVtwPwAAAABJRU5ErkJggg==",
=======
      "image/png": "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",
>>>>>>> b4b9f18f8e13d3ca4a001f63510faf5f68727d70
      "text/plain": [
       "<Figure size 640x480 with 1 Axes>"
      ]
     },
     "metadata": {},
     "output_type": "display_data"
    }
   ],
   "source": [
    "#------------------------------------------------------------------------------#\n",
    "#--------------------------- EXPLANATION OF IF/ELSE SYNTAX --------------------#\n",
    "#\n",
    "# If/else statements are useful to run different types of commands\n",
    "# depending on a user-specified input, or conditions satisfied by the data\n",
    "#\n",
    "# This code prints a red graph if \"is_red_graph\" is set to \"True\"\n",
    "# and outputs a purple graph otherwise.\n",
    "#\n",
    "# Common notation: The prefix \"is_\" denotes boleean variables\n",
    "#\n",
    "# VIEWING OUTPUT:\n",
    "# You can guarantee that the graph appears with plt.show()\n",
    "#------------------------------------------------------------------------------#\n",
    "\n",
    "\n",
    "is_graph_red = False\n",
<<<<<<< HEAD
    "how_many_classes = [1,2,2,3,4,6,4,8,7,4]\n",
=======
    "how_many_classes = np.array([7, 5, 4, 5, 7, 3, 4, 5, 6])\n",
>>>>>>> b4b9f18f8e13d3ca4a001f63510faf5f68727d70
    "\n",
    "if is_graph_red:\n",
    "    plt.hist(x = how_many_classes, color=\"red\")\n",
    "    plt.title(\"Count of students in each category\")\n",
    "    plt.xlabel(\"How many classes are you taking?\")\n",
    "    plt.show() \n",
    "else:\n",
    "    plt.hist(x = how_many_classes, color=\"purple\")\n",
    "    plt.title(\"Count of students in each category\")\n",
    "    plt.xlabel(\"How many classes are you taking?\")\n",
    "    plt.show()"
   ]
  },
  {
   "cell_type": "markdown",
   "id": "679fa876",
   "metadata": {},
   "source": [
    "<font size = \"5\">\n",
    "What happens if ... ? Try the following:\n",
    "<br>\n",
    "\n",
    "- What happens if you set a non-boolean value of \"is_graph_red\"?\n",
    "- Don't include \":\"\n",
    "- Don't indent the body of the \"if\""
   ]
  },
  {
   "cell_type": "markdown",
   "id": "cae6c282",
   "metadata": {},
   "source": [
    "<font size = \"5\">\n",
    "\n",
    "<table><tr>\n",
    "<td> <img src=\"figures/elif.png\" alt=\"drawing\" width=\"300\"/>  </td>\n",
    "<td>  Running multiple different lines of code <br>\n",
    "depending on a series of conditions <br>\n",
    "\n",
    "``` python\n",
    "    if test_expression:\n",
    "        Body\n",
    "    elif test_expression:\n",
    "        Body\n",
    "    else: \n",
    "        Body\n",
    "```\n",
    "\n",
    " </td>\n",
    "</tr></table>"
   ]
  },
  {
   "cell_type": "code",
<<<<<<< HEAD
   "execution_count": 39,
=======
   "execution_count": 30,
>>>>>>> b4b9f18f8e13d3ca4a001f63510faf5f68727d70
   "id": "f2cf313a",
   "metadata": {},
   "outputs": [
    {
     "name": "stdout",
     "output_type": "stream",
     "text": [
<<<<<<< HEAD
      "This student is a senior\n"
=======
      "This student is a junior\n"
>>>>>>> b4b9f18f8e13d3ca4a001f63510faf5f68727d70
     ]
    }
   ],
   "source": [
    "# The elif (a shorthand for elif) is a good alternative to evaluate\n",
    "# mutually exclusive options\n",
    "\n",
<<<<<<< HEAD
    "years_in_program = 8\n",
=======
    "years_in_program = 3\n",
>>>>>>> b4b9f18f8e13d3ca4a001f63510faf5f68727d70
    "\n",
    "if years_in_program == 1:\n",
    "    print(\"This student is a freshman\")\n",
    "elif years_in_program == 2:\n",
    "    print(\"This student is a sophomore\")\n",
    "elif years_in_program == 3:\n",
    "    print(\"This student is a junior\")\n",
    "else:\n",
    "    print(\"This student is a senior\")\n"
   ]
  },
  {
   "cell_type": "markdown",
   "id": "ab6b3508",
   "metadata": {},
   "source": [
    "##  <span style=\"color:darkblue\"> Exercises </span>"
   ]
  },
  {
   "cell_type": "markdown",
   "id": "1b863c49",
   "metadata": {},
   "source": [
    "<font size = \"5\">\n",
    "Letter Grade\n",
    "<br>\n",
    "\n",
    "- Create a variable called \"points\" with a value between 0 and 100\n",
    "- Write a flow with \"if\", \"elif\" and \"else\" to assign the letter grade, depending on whether \n",
    "    - $\\textrm{points} >= 93$\n",
    "    - $93 > \\textrm{points} >= 87$\n",
    "    - $87 > \\textrm{points} >= 83$\n",
    "    - $87 > \\textrm{points} >= 83$,\n",
    "    - ...\n",
    "    - $55 > \\textrm{points}$\n",
    "\n",
    "- In the body, store the output in a new variable called \"letter_grade\"\n",
    "- Print the letter grade at the end\n",
    "\n",
    "<img src=\"figures/grading_scale.png\" alt=\"drawing\" width=\"700\"/>\n",
    "\n",
    "Important: Check that it works by trying different values of \"points\"!"
   ]
  },
  {
   "cell_type": "code",
   "execution_count": 32,
   "id": "d87191c7",
   "metadata": {},
   "outputs": [
    {
     "name": "stdout",
     "output_type": "stream",
     "text": [
      "C+\n"
     ]
    }
   ],
   "source": [
    "points = 74 # change to different values\n",
    "\n",
    "# remove the \"#\" below to choose a random value for points\n",
    "# points = np.random.uniform(low = 40, high = 100)\n",
    "\n",
    "\n",
    "if points >= 93:\n",
    "    letter_grade = \"A\"\n",
    "elif points >= 87:\n",
    "    letter_grade = \"A-\"\n",
    "elif points >= 83:\n",
    "    letter_grade = \"B+\"\n",
    "elif points >= 80:\n",
    "    letter_grade = \"B\"\n",
    "elif points >= 75:\n",
    "    letter_grade = \"B-\"\n",
    "elif points >= 70:\n",
    "    letter_grade = \"C+\"\n",
    "elif points >= 65:\n",
    "    letter_grade = \"C\"\n",
    "elif points >= 60:\n",
    "    letter_grade = \"C-\"\n",
    "elif points >= 55:\n",
    "    letter_grade = \"D\"\n",
    "else:\n",
    "    letter_grade = \"F\"\n",
    "\n",
    "print(letter_grade)\n",
    "\n"
   ]
  },
  {
   "cell_type": "markdown",
   "id": "010ef976",
   "metadata": {},
   "source": [
    "<font size = \"5\">\n",
    "\n",
    "Letter Grade - part 2\n",
    "<br>\n",
    "\n",
    "- Create a variable called \"points\" with a value between 0 and 100\n",
    "- Again, we will define a variable called \"letter_grade\".\n",
    "- The flow will have two steps:\n",
    "    - 1. Check whether the letter grade will be an \"A\", \"B\", \"C\", \"D\", or \"F\"\n",
    "    - 2. If the grade is an \"A\", \"B\", or \"C\", check whether a \"+\" or \"-\" needs to be appended at the end of \"letter_grade\"\n",
    "- Print the value of \"letter_grade\" at the end"
   ]
  },
  {
   "cell_type": "code",
   "execution_count": 34,
   "id": "24ab1092",
   "metadata": {},
   "outputs": [
    {
     "name": "stdout",
     "output_type": "stream",
     "text": [
      "B+\n"
     ]
    }
   ],
   "source": [
    "points = 83 # change to different values\n",
    "\n",
    "# remove the \"#\" below to choose a random value for points\n",
    "# points = np.random.uniform(low = 40, high = 100)\n",
    "\n",
    "if points >= 87:\n",
    "    letter_grade = \"A\"\n",
    "    if points < 93:\n",
    "        letter_grade = letter_grade + \"-\"\n",
    "elif points >= 75:\n",
    "    letter_grade = \"B\"\n",
    "    if points >= 83:\n",
    "        letter_grade = letter_grade + \"+\"\n",
    "    elif points < 80:\n",
    "        letter_grade = letter_grade + \"-\"\n",
    "elif points >= 60:\n",
    "    letter_grade = \"C\"\n",
    "    if points >= 70:\n",
    "        letter_grade = letter_grade + \"+\"\n",
    "    elif points < 65:\n",
    "        letter_grade = letter_grade + \"-\"\n",
    "elif points >= 55:\n",
    "    letter_grade = \"D\"\n",
    "else:\n",
    "    letter_grade = \"F\"\n",
    "\n",
    "print(letter_grade)\n",
    "\n",
    "\n"
   ]
  },
  {
   "cell_type": "markdown",
   "id": "4d4ffb49",
   "metadata": {},
   "source": [
    "<font size = \"5\">\n",
    "\n",
    "Threshold testing a sum\n",
    "<br>\n",
    "\n",
    "- Create a numeric vector (array), $ c = \\begin{bmatrix} 1 \\\\ 2 \\\\ 3 \\end{bmatrix} $\n",
    "- Use the \"numpy.sum()\"' function to add up the individual elements.\n",
    "- If the sum of numbers is higher than $5$, write a message saying <br>\n",
    "\" The sum is greater than or equal to 5\"\n",
    "- Otherwise show a message \"It is strictly less than 5\""
   ]
  },
  {
   "cell_type": "code",
   "execution_count": 35,
   "id": "f3f010b8",
   "metadata": {},
   "outputs": [
    {
     "name": "stdout",
     "output_type": "stream",
     "text": [
      "The sum is greater than or equal to 5\n"
     ]
    }
   ],
   "source": [
    "c = np.array([1, 2, 3])\n",
    "vec_sum = np.sum(c)\n",
    "\n",
    "if vec_sum >= 5:\n",
    "    print(\"The sum is greater than or equal to 5\")\n",
    "else:\n",
    "    print(\"It is strictly less than 5\")\n",
    "\n"
   ]
  },
  {
   "cell_type": "markdown",
   "id": "5e7ffa59",
   "metadata": {},
   "source": [
    "<font size = \"5\">\n",
    "\n",
    "Comparing Strings\n",
    "<br>\n",
    "\n",
    "- Create a string with your first name (first letter capitalized) and save it to a variable ``my_name``\n",
    "- Turn to a classmate and create a string with their first name (first letter capitalized) and save it to a variable ``classmate_name``\n",
    "- Test whether or not your name is \"greater than\" your classmate's name. What rule do you think Python uses to determine this?"
   ]
  },
  {
   "cell_type": "code",
   "execution_count": 38,
   "id": "9c704250",
   "metadata": {},
   "outputs": [
    {
     "name": "stdout",
     "output_type": "stream",
     "text": [
      "False\n"
     ]
    }
   ],
   "source": [
    "# your code below\n",
    "\n",
    "my_name = \"Peter\"\n",
    "wife_name = \"Samah\"\n",
    "\n",
    "print(my_name > wife_name)\n",
    "\n",
    "# Python uses Lexicographical ordering \"aka\" Alphabetical ordering.\n",
    "\n",
    "# The ordering of letters is:\n",
    "# \"A\" < \"B\" < \"C\" < ... < \"X\" < \"Y\" < \"Z\" < \"a\" < \"b\" < ... < \"y\" < \"z\"\n",
    "\n",
    "# Since \"P\" < \"S\", it follows that \"Peter\" < \"Samah\"\n",
    "# After this is determined, the letters that follow don't matter"
   ]
  },
  {
   "cell_type": "markdown",
   "id": "eb194b11",
   "metadata": {},
   "source": [
    "#### Run the cell below. How do you explain the output you see?"
   ]
  },
  {
   "cell_type": "code",
<<<<<<< HEAD
   "execution_count": 52,
=======
   "execution_count": 41,
>>>>>>> b4b9f18f8e13d3ca4a001f63510faf5f68727d70
   "id": "8ca91c61",
   "metadata": {},
   "outputs": [
    {
     "name": "stdout",
     "output_type": "stream",
     "text": [
      "True\n"
     ]
    }
   ],
   "source": [
    "list_1 = [0, 0, 0, 0, 0]\n",
    "list_2 = [5, 50, 75, 100, -0.01]\n",
    "print(list_1 <= list_2)\n",
    "\n",
<<<<<<< HEAD
    "#list比大小一个一个比，这里第一个数5比0大，所以直接就是list 2 > list 1"
=======
    "# Explained this in class.\n",
    "# If we put the words \"Zebra\" and \"Apple\" in alphabetical order, we\n",
    "# would put Apple before Zebra, because A comes before Z in the alphabet.\n",
    "# The endings \"pple\" and \"ebra\" do not need to be considered.\n",
    "\n",
    "# Above, since list_1[0] = 0, list_2[0] = 5, and \"0 <= 5\" is true, \n",
    "# Python declares that list_1 <= list_2 is a true statement"
>>>>>>> b4b9f18f8e13d3ca4a001f63510faf5f68727d70
   ]
  },
  {
   "cell_type": "markdown",
   "id": "037f115b",
   "metadata": {},
   "source": [
    "#### Guess what the output will be **before** running it. What is happening in the code?"
   ]
  },
  {
   "cell_type": "code",
   "execution_count": 42,
   "id": "a37642ef",
   "metadata": {},
   "outputs": [
    {
     "name": "stdout",
     "output_type": "stream",
     "text": [
      "True\n"
     ]
    }
   ],
   "source": [
    "# remove the \"#\" signs to change the comments into code\n",
    "\n",
<<<<<<< HEAD
    "x = 7\n",
    "y = 3\n",
    "\n",
    "z = x*y + 9  #z = 21+9=30\n",
    "\n",
    "q = z/10   #q=30/10=3\n",
    "\n",
    "x = x - q  #7=3=4\n",
    "\n",
    "x = x == 4 #判断\n",
    "\n",
    "print(x) #Ture"
=======
    "x = 7 # assign 7 to \"x\"\n",
    "y = 3 # assign 3 to \"y\"\n",
    "\n",
    "z = x*y + 9 # compute 7*3 + 9 = 30, and assign it to \"z\"\n",
    "\n",
    "q = z/10 # compute 30/10 = 3 and assign it to \"q\"\n",
    "\n",
    "x = x - q # compute 7 - 3 = 4 and assign it to \"x\", overwriting the value of 7\n",
    "\n",
    "# Test whether x equals 4, which is True. Then assign True to \"x\", overwriting the value of 4\n",
    "x = x == 4\n",
    "\n",
    "print(x) # Since x is True, this will print True"
>>>>>>> b4b9f18f8e13d3ca4a001f63510faf5f68727d70
   ]
  },
  {
   "cell_type": "markdown",
   "id": "9728dae2",
   "metadata": {},
   "source": [
    "#### What will be printed after running the code cell? Answer **before** running it"
   ]
  },
  {
   "cell_type": "code",
   "execution_count": 43,
   "id": "89b6212d",
   "metadata": {},
   "outputs": [
    {
     "name": "stdout",
     "output_type": "stream",
     "text": [
<<<<<<< HEAD
      "0.30000000000000004\n",
=======
>>>>>>> b4b9f18f8e13d3ca4a001f63510faf5f68727d70
      "False\n"
     ]
    }
   ],
   "source": [
    "# remove the \"#\" signs to change the comments into code\n",
    "\n",
<<<<<<< HEAD
    "x = 0.1 + 0.1 + 0.1  #0.3\n",
    "y = 0.3\n",
    "print(x) #0.30000000000000004\n",
    "\n",
    "print(x == y) #False"
=======
    "x = 0.1 + 0.1 + 0.1\n",
    "y = 0.3\n",
    "\n",
    "print(x == y)\n",
    "\n",
    "# This will print False. This is because 0.1 and 0.3 have infinitely long binary expansions.\n",
    "# So Python cannot represent these numbers exactly, and rounding error when computing x results\n",
    "# in different value than y."
>>>>>>> b4b9f18f8e13d3ca4a001f63510faf5f68727d70
   ]
  },
  {
   "cell_type": "markdown",
   "id": "b271a8fa",
   "metadata": {},
   "source": [
    "#### Can you think of an optimal way of checking if two floating-point numbers are equal?"
   ]
  },
  {
   "cell_type": "code",
<<<<<<< HEAD
   "execution_count": 50,
=======
   "execution_count": 44,
>>>>>>> b4b9f18f8e13d3ca4a001f63510faf5f68727d70
   "id": "68ebc033",
   "metadata": {},
   "outputs": [
    {
     "name": "stdout",
     "output_type": "stream",
     "text": [
<<<<<<< HEAD
      "1e-15\n",
=======
      "True\n",
>>>>>>> b4b9f18f8e13d3ca4a001f63510faf5f68727d70
      "True\n"
     ]
    }
   ],
   "source": [
<<<<<<< HEAD
    "# experiment with different ideas here\n",
    "\n",
    "#never test if 2 floating point numbers are queal. test if their difference is small\n",
    "\n",
    "tolerance = 10**(-15)\n",
    "print(tolerance)\n",
    "print(y-x < tolerance)"
=======
    "x = 0.1 + 0.1 + 0.1\n",
    "y = 0.3\n",
    "\n",
    "tolerance = 10**(-12)\n",
    "tolerance_alternative = 1e-12\n",
    "\n",
    "print(abs(x - y) < tolerance)\n",
    "print(abs(x - y) < tolerance_alternative)\n",
    "\n"
>>>>>>> b4b9f18f8e13d3ca4a001f63510faf5f68727d70
   ]
  },
  {
   "cell_type": "markdown",
   "id": "03a0bdc6",
   "metadata": {},
   "source": [
    "#### **Note**: ``1e-12`` is equivalent to\n",
    "\n",
    "$$ 1 \\times 10^{-12}$$\n",
    "\n",
    "#### **Common mistake**: when assigning the number $10^{-2}$ to a variable, it is tempting to write\n",
    "\n",
    "```python\n",
    "variable = 10e-2\n",
    "```\n",
    "\n",
    "#### However, this is equivalent to\n",
    "\n",
    "$$ 10 \\times 10^{-2} = 10^{-1}$$\n",
    "\n",
    "#### Since $10^{-2} = 1\\times 10^{-2}$, the correct way to assign this number is:\n",
    "```python\n",
    "variable = 1e-2\n",
    "```\n"
   ]
  },
  {
   "cell_type": "code",
   "execution_count": null,
   "id": "61a884d6",
   "metadata": {},
   "outputs": [],
   "source": []
  }
 ],
 "metadata": {
  "kernelspec": {
   "display_name": "base",
   "language": "python",
   "name": "python3"
  },
  "language_info": {
   "codemirror_mode": {
    "name": "ipython",
    "version": 3
   },
   "file_extension": ".py",
   "mimetype": "text/x-python",
   "name": "python",
   "nbconvert_exporter": "python",
   "pygments_lexer": "ipython3",
   "version": "3.13.5"
  }
 },
 "nbformat": 4,
 "nbformat_minor": 5
}
