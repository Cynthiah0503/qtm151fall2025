{
 "cells": [
  {
   "cell_type": "markdown",
   "id": "ad8734bb",
   "metadata": {},
   "source": [
    "This is my first Jupyter notebook"
   ]
  },
  {
   "cell_type": "code",
   "execution_count": null,
   "id": "75cce13f",
   "metadata": {},
   "outputs": [],
   "source": [
    "print(“My name is Cynthia Han”)"
   ]
  },
  {
   "cell_type": "code",
   "execution_count": null,
   "id": "7fb89296",
   "metadata": {},
   "outputs": [],
   "source": []
  }
 ],
 "metadata": {
  "language_info": {
   "name": "python"
  }
 },
 "nbformat": 4,
 "nbformat_minor": 5
}
