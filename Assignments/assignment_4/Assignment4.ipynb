{
 "cells": [
  {
   "cell_type": "markdown",
   "metadata": {},
   "source": [
    "# Assignment 4"
   ]
  },
  {
   "cell_type": "markdown",
   "metadata": {},
   "source": [
    "<font size = \"5\">\n",
    "Import the matplotlib and numpy packages"
   ]
  },
  {
   "cell_type": "code",
   "execution_count": 14,
   "metadata": {},
   "outputs": [],
   "source": [
    "import numpy as np \n",
    "import matplotlib.pyplot as plt"
   ]
  },
  {
   "cell_type": "markdown",
   "metadata": {},
   "source": [
    "### a) For-loops and Conditional Statements  \n",
    "\n",
    "Using the lists of movie ratings and titles below, where each rating corresponds directly to the title in the same position, <br> create a new list of movies that are considered top picks (**those with ratings greater than or equal to 8**):   \n",
    "- Use a for loop to iterate through both lists below and store the titles and ratings of movies <br>considered top picks in two new lists:  \n",
    "  - `top_picks_titles`: The titles of movies considered top picks.  \n",
    "  - `top_picks_ratings`: The ratings of top pick movies.  \n",
    "- Print the results of both lists."
   ]
  },
  {
   "cell_type": "code",
   "execution_count": 15,
   "metadata": {},
   "outputs": [],
   "source": [
    "# run this cell first\n",
    "movie_ratings = [6.8, 8.3, 8.5, 5.1, 8.0, 3.5, 7.8, 8.4, 7.8, 2.8, 8.8]\n",
    "movie_titles = [\"Barbie\", \"Oppenheimer\", \"Spider-Man: Across the Spider-Verse\", \n",
    "                \"Morbius\", \"Dune\", \"The Emoji Movie\", \n",
    "                \"Everything Everywhere All at Once\", \"Avengers: Endgame\", \n",
    "                \"The Batman\", \"Cats\", \"Pulp Fiction\"]"
   ]
  },
  {
   "cell_type": "code",
   "execution_count": 16,
   "metadata": {},
   "outputs": [
    {
     "name": "stdout",
     "output_type": "stream",
     "text": [
      "Top Picks Titles: ['Oppenheimer', 'Spider-Man: Across the Spider-Verse', 'Dune', 'Avengers: Endgame', 'Pulp Fiction']\n",
      "Top Picks Ratings: [8.3, 8.5, 8.0, 8.4, 8.8]\n"
     ]
    }
   ],
   "source": [
    "# Write your answer here\n",
    "\n",
    "top_picks_titles = []\n",
    "top_picks_ratings = []\n",
    "\n",
    "for title, rating in zip(movie_titles, movie_ratings):\n",
    "    if  rating >= 8:\n",
    "        top_picks_titles.append(title)\n",
    "        top_picks_ratings.append(rating)\n",
    "\n",
    "print(\"Top Picks Titles:\", top_picks_titles)\n",
    "print(\"Top Picks Ratings:\", top_picks_ratings)"
   ]
  },
  {
   "cell_type": "markdown",
   "metadata": {},
   "source": [
    "### b) Follow-up to Part (a)  \n",
    "\n",
    "Using numpy, perform the following operations on the `top_picks_ratings` list:  \n",
    "\n",
    "- Count and print the total number of movies considered top picks using `np.size()`.  \n",
    "- Calculate and print the average ratings of the top pick movies using `np.mean()`.  \n",
    "- Determine and print the highest rating from the top pick movies using `np.max()`. \n",
    "\n",
    "**You should assign each computed value to a variable**\n",
    "\n",
    "Hint: Most numpy operations work with lists, not just arrays"
   ]
  },
  {
   "cell_type": "code",
   "execution_count": 17,
   "metadata": {},
   "outputs": [
    {
     "name": "stdout",
     "output_type": "stream",
     "text": [
      "5 8.4 8.8\n"
     ]
    }
   ],
   "source": [
    "# Write your answer here\n",
    "count_top = (np.size(top_picks_ratings))\n",
    "calc_mean = np.mean(top_picks_ratings)\n",
    "det_max = np.max(top_picks_ratings)\n",
    "\n",
    "print(count_top, calc_mean, det_max)"
   ]
  },
  {
   "cell_type": "markdown",
   "metadata": {},
   "source": [
    "\n",
    "### c) For-loops + Plotting\n",
    "\n",
    "   - Create an array of x-values with 100 evenly spaced points between $0$ and $2\\pi$ <br>using `np.linspace()`. **Hint**: type ``help(np.linspace)`` in a separate cell to see how it is used\n",
    "\n",
    "   - Create a vector named ```vec_y1``` where each element is computed from the formula <br> $ y_k = \\sin(x_k)$. (Here $x_k$ is the $k$-th element of the array you created above, and $y_k$ is the $k$-th element of vec_y1)\n",
    "\n",
    "   - Create a vector ```vec_y2``` where each element is computed from the formula <br> $ y_k = \\cos(x_k)$.\n",
    "\n",
    "   - Create a list ```list_vectors``` with elements ```vec_y1``` and ```vec_y2```. (So a list with two components, both being numpy arrays)\n",
    "\n",
    "   - Create a for-loop that goes through each element of ```list_vectors``` and plots each <br>list of $y$ values on the vertical axis against $x$ on the horizontal axis.\n",
    "\n",
    "Note: The final output should be a 2-dimensional plot with the values from vec_y1 and vec_y2 on the vertical axis, and the $x$ values on the horizontal axis. **Remember to label the axes and add a title to the plot**."
   ]
  },
  {
   "cell_type": "code",
   "execution_count": 1,
   "metadata": {},
   "outputs": [
    {
     "ename": "NameError",
     "evalue": "name 'np' is not defined",
     "output_type": "error",
     "traceback": [
      "\u001b[0;31m---------------------------------------------------------------------------\u001b[0m",
      "\u001b[0;31mNameError\u001b[0m                                 Traceback (most recent call last)",
      "Cell \u001b[0;32mIn[1], line 2\u001b[0m\n\u001b[1;32m      1\u001b[0m \u001b[38;5;66;03m# Write your answer here\u001b[39;00m\n\u001b[0;32m----> 2\u001b[0m x \u001b[38;5;241m=\u001b[39m np\u001b[38;5;241m.\u001b[39mlinspace(start \u001b[38;5;241m=\u001b[39m \u001b[38;5;241m0\u001b[39m, stop \u001b[38;5;241m=\u001b[39m \u001b[38;5;241m2\u001b[39m\u001b[38;5;241m*\u001b[39mnp\u001b[38;5;241m.\u001b[39mpi, num\u001b[38;5;241m=\u001b[39m\u001b[38;5;241m100\u001b[39m, endpoint\u001b[38;5;241m=\u001b[39m\u001b[38;5;28;01mTrue\u001b[39;00m)\n\u001b[1;32m      3\u001b[0m vec_y1 \u001b[38;5;241m=\u001b[39m np\u001b[38;5;241m.\u001b[39msin(x)\n\u001b[1;32m      4\u001b[0m vec_y2 \u001b[38;5;241m=\u001b[39m np\u001b[38;5;241m.\u001b[39mcos(x)\n",
      "\u001b[0;31mNameError\u001b[0m: name 'np' is not defined"
     ]
    }
   ],
   "source": [
    "# Write your answer here\n",
    "x = np.linspace(start = 0, stop = 2*np.pi, num=100, endpoint=True)\n",
    "vec_y1 = np.sin(x)\n",
    "vec_y2 = np.cos(x)\n",
    "list_vectors = [vec_y1, vec_y2]\n",
    "\n",
    "for v in list_vectors:\n",
    "    plt.plot(x, v)\n",
    "\n",
    "plt.xlabel(\"x values\")\n",
    "plt.ylabel(\"y values\")\n",
    "plt.title(\"sin and cos graphs\")\n",
    "plt.legend([\"sin(x)\", \"cos(x)\"])  \n",
    "plt.show()"
   ]
  },
  {
   "cell_type": "code",
   "execution_count": 19,
   "metadata": {},
   "outputs": [
    {
     "name": "stdout",
     "output_type": "stream",
     "text": [
      "Help on _ArrayFunctionDispatcher in module numpy:\n",
      "\n",
      "linspace(\n",
      "    start,\n",
      "    stop,\n",
      "    num=50,\n",
      "    endpoint=True,\n",
      "    retstep=False,\n",
      "    dtype=None,\n",
      "    axis=0,\n",
      "    *,\n",
      "    device=None\n",
      ")\n",
      "    Return evenly spaced numbers over a specified interval.\n",
      "\n",
      "    Returns `num` evenly spaced samples, calculated over the\n",
      "    interval [`start`, `stop`].\n",
      "\n",
      "    The endpoint of the interval can optionally be excluded.\n",
      "\n",
      "    .. versionchanged:: 1.16.0\n",
      "        Non-scalar `start` and `stop` are now supported.\n",
      "\n",
      "    .. versionchanged:: 1.20.0\n",
      "        Values are rounded towards ``-inf`` instead of ``0`` when an\n",
      "        integer ``dtype`` is specified. The old behavior can\n",
      "        still be obtained with ``np.linspace(start, stop, num).astype(int)``\n",
      "\n",
      "    Parameters\n",
      "    ----------\n",
      "    start : array_like\n",
      "        The starting value of the sequence.\n",
      "    stop : array_like\n",
      "        The end value of the sequence, unless `endpoint` is set to False.\n",
      "        In that case, the sequence consists of all but the last of ``num + 1``\n",
      "        evenly spaced samples, so that `stop` is excluded.  Note that the step\n",
      "        size changes when `endpoint` is False.\n",
      "    num : int, optional\n",
      "        Number of samples to generate. Default is 50. Must be non-negative.\n",
      "    endpoint : bool, optional\n",
      "        If True, `stop` is the last sample. Otherwise, it is not included.\n",
      "        Default is True.\n",
      "    retstep : bool, optional\n",
      "        If True, return (`samples`, `step`), where `step` is the spacing\n",
      "        between samples.\n",
      "    dtype : dtype, optional\n",
      "        The type of the output array.  If `dtype` is not given, the data type\n",
      "        is inferred from `start` and `stop`. The inferred dtype will never be\n",
      "        an integer; `float` is chosen even if the arguments would produce an\n",
      "        array of integers.\n",
      "\n",
      "        .. versionadded:: 1.9.0\n",
      "    axis : int, optional\n",
      "        The axis in the result to store the samples.  Relevant only if start\n",
      "        or stop are array-like.  By default (0), the samples will be along a\n",
      "        new axis inserted at the beginning. Use -1 to get an axis at the end.\n",
      "\n",
      "        .. versionadded:: 1.16.0\n",
      "    device : str, optional\n",
      "        The device on which to place the created array. Default: None.\n",
      "        For Array-API interoperability only, so must be ``\"cpu\"`` if passed.\n",
      "\n",
      "        .. versionadded:: 2.0.0\n",
      "\n",
      "    Returns\n",
      "    -------\n",
      "    samples : ndarray\n",
      "        There are `num` equally spaced samples in the closed interval\n",
      "        ``[start, stop]`` or the half-open interval ``[start, stop)``\n",
      "        (depending on whether `endpoint` is True or False).\n",
      "    step : float, optional\n",
      "        Only returned if `retstep` is True\n",
      "\n",
      "        Size of spacing between samples.\n",
      "\n",
      "\n",
      "    See Also\n",
      "    --------\n",
      "    arange : Similar to `linspace`, but uses a step size (instead of the\n",
      "             number of samples).\n",
      "    geomspace : Similar to `linspace`, but with numbers spaced evenly on a log\n",
      "                scale (a geometric progression).\n",
      "    logspace : Similar to `geomspace`, but with the end points specified as\n",
      "               logarithms.\n",
      "    :ref:`how-to-partition`\n",
      "\n",
      "    Examples\n",
      "    --------\n",
      "    >>> import numpy as np\n",
      "    >>> np.linspace(2.0, 3.0, num=5)\n",
      "    array([2.  , 2.25, 2.5 , 2.75, 3.  ])\n",
      "    >>> np.linspace(2.0, 3.0, num=5, endpoint=False)\n",
      "    array([2. ,  2.2,  2.4,  2.6,  2.8])\n",
      "    >>> np.linspace(2.0, 3.0, num=5, retstep=True)\n",
      "    (array([2.  ,  2.25,  2.5 ,  2.75,  3.  ]), 0.25)\n",
      "\n",
      "    Graphical illustration:\n",
      "\n",
      "    >>> import matplotlib.pyplot as plt\n",
      "    >>> N = 8\n",
      "    >>> y = np.zeros(N)\n",
      "    >>> x1 = np.linspace(0, 10, N, endpoint=True)\n",
      "    >>> x2 = np.linspace(0, 10, N, endpoint=False)\n",
      "    >>> plt.plot(x1, y, 'o')\n",
      "    [<matplotlib.lines.Line2D object at 0x...>]\n",
      "    >>> plt.plot(x2, y + 0.5, 'o')\n",
      "    [<matplotlib.lines.Line2D object at 0x...>]\n",
      "    >>> plt.ylim([-0.5, 1])\n",
      "    (-0.5, 1)\n",
      "    >>> plt.show()\n",
      "\n"
     ]
    }
   ],
   "source": [
    "help(np.linspace)"
   ]
  },
  {
   "cell_type": "markdown",
   "metadata": {},
   "source": [
    "### d) Learn How to Use zip()\n",
    "\n",
    "- Below, write a chunk of code that prints out the average score for each player over the 3 rounds. <br> The names and scores are given in the lists below.  \n",
    "- The program should print the players's name and their average score, formatted like this: \n",
    "\n",
    "    ```python\n",
    "    John's average score: ___ \n",
    "    Bob's average score: ___ \n",
    "    Jane's average score: ___\n",
    "    Dave's average score: ___\n",
    "    Jenny's average score: ___\n",
    "    ```\n",
    "\n",
    "- Use the ``zip`` function in the heading of the loop. **You should use all four lists in the heading**\n",
    "\n",
    "Hints/Tips:\n",
    "- You can learn more about zip() here: [Python zip() Function](https://www.geeksforgeeks.org/zip-in-python/)\n",
    "- You can print a string followed by a float using print as follows:\n",
    "```python\n",
    "    print(some_string, some_float)\n",
    "```\n",
    "- ...or you can convert the float to a string using ``str``"
   ]
  },
  {
   "cell_type": "code",
   "execution_count": 20,
   "metadata": {},
   "outputs": [],
   "source": [
    "# run this cell first\n",
    "player_names = [\"John\", \"Bob\", \"Jane\", \"Dave\", \"Jenny\"]\n",
    "round1 = [120, 200, 150, 300, 180]\n",
    "round2 = [100, 210, 160, 280, 190]\n",
    "round3 = [130, 190, 170, 310, 175]"
   ]
  },
  {
   "cell_type": "code",
   "execution_count": 21,
   "metadata": {},
   "outputs": [
    {
     "name": "stdout",
     "output_type": "stream",
     "text": [
      "John's average score:  116.66666666666667\n",
      "Bob's average score:  200.0\n",
      "Jane's average score:  160.0\n",
      "Dave's average score:  296.6666666666667\n",
      "Jenny's average score:  181.66666666666666\n"
     ]
    }
   ],
   "source": [
    "# Write your answer here\n",
    "\n",
    "for name, r1, r2, r3 in zip(player_names, round1, round2, round3):\n",
    "    avg = (r1 + r2 + r3) / 3\n",
    "    print(name + \"'s average score: \", avg)\n"
   ]
  },
  {
   "cell_type": "markdown",
   "metadata": {},
   "source": [
    "### e) Simulating and Visualizing \n",
    "- We will generate and plot multiple histograms of sample means for the **log-normal** distribution.\n",
    "\n",
    "- The log-normal distribution arises by raising Euler's number ($\\mathrm{e}$) to the power of a number drawn from a normal distribution. This is the *underlying* normal distribution.\n",
    "\n",
    "- If $\\mu$ is the mean of the underlying normal distribution, and $\\sigma$ is the standard deviation of the underlying normal distribution, then:\n",
    "$$ \\textrm{mean of log-normal distribution } = \\mathrm{e}^{\\mu + \\frac{\\sigma^2}{2}} = \\exp\\left(\\mu + \\frac{\\sigma^2}{2} \\right)$$\n",
    "\n",
    "- For this question, we will use $\\mu = 1$ and $\\sigma = 0.5$\n",
    "\n",
    "- Generate and plot multiple histograms showing the frequency of sample means computed with different sample sizes:\n",
    "\n",
    "    - Create 3 histograms: one with sample size 10, one with sample size 100, and one <br>with sample size 1000.\n",
    "    - Make sure that the number of simulations is the same for all three (keep the number <br> of simulations set to 2000)\n",
    "\n",
    "- Using your histograms from the question above, how does the sample size affect the <br> distribution of the sample means? Answer this question in a markdown cell or as a comment in a Python cell.\n",
    "\n",
    "- **Hint**: you will want to use the function ``np.random.lognormal``"
   ]
  },
  {
   "cell_type": "markdown",
   "metadata": {},
   "source": [
    "### Write your answers in the cells below"
   ]
  },
  {
   "cell_type": "code",
   "execution_count": 22,
   "metadata": {},
   "outputs": [
    {
     "data": {
      "image/png": "[encoded data removed]",
      "text/plain": [
       "<Figure size 1200x300 with 3 Axes>"
      ]
     },
     "metadata": {},
     "output_type": "display_data"
    }
   ],
   "source": [
    "# Sample Size 10\n",
    "\n",
    "np.random.seed(1234) # set the seed for reproducibility\n",
    "num_simulations = 2000\n",
    "\n",
    "\n",
    "# complete the code\n",
    "\n",
    "\n",
    "means_n10 = []\n",
    "means_n100 = []\n",
    "means_n1000 = []\n",
    "\n",
    "for _ in range(num_simulations):\n",
    "    M10 = np.random.lognormal(mean=1, sigma=0.5, size=10)\n",
    "    M100 = np.random.lognormal(mean=1, sigma=0.5, size=100)\n",
    "    M1000 = np.random.lognormal(mean=1, sigma=0.5, size=1000)\n",
    "\n",
    "    means_n10.append(np.mean(M10))\n",
    "    means_n100.append(np.mean(M100))\n",
    "    means_n1000.append(np.mean(M1000))\n",
    "\n",
    "fig, axes = plt.subplots(1, 3, figsize=(12,3))\n",
    "\n",
    "axes[0].hist(means_n10)\n",
    "axes[0].set_title(\"n=10\")\n",
    "axes[0].set_xlabel(\"Sample mean\")\n",
    "axes[0].set_ylabel(\"Frequency\")\n",
    "axes[0].set_xlim(1, 5)\n",
    "\n",
    "axes[1].hist(means_n100)\n",
    "axes[1].set_title(\"n=100\")\n",
    "axes[1].set_xlabel(\"Sample mean\")\n",
    "axes[1].set_ylabel(\"Frequency\")\n",
    "axes[1].set_xlim(1, 5)\n",
    "\n",
    "axes[2].hist(means_n1000)\n",
    "axes[2].set_title(\"n=1000\")\n",
    "axes[2].set_xlabel(\"Sample mean\")\n",
    "axes[2].set_ylabel(\"Frequency\")\n",
    "axes[2].set_xlim(1, 5)\n",
    "\n",
    "plt.tight_layout()\n",
    "plt.show()"
   ]
  },
  {
   "cell_type": "code",
   "execution_count": 23,
   "metadata": {},
   "outputs": [
    {
     "data": {
      "image/png": "[encoded data removed]",
      "text/plain": [
       "<Figure size 1200x300 with 3 Axes>"
      ]
     },
     "metadata": {},
     "output_type": "display_data"
    }
   ],
   "source": [
    "# Sample Size 100\n",
    "\n",
    "\n",
    "# complete the code\n",
    "\n",
    "#zip version\n",
    "\n",
    "np.random.seed(1234)\n",
    "num_simulations = 2000\n",
    "\n",
    "sample_size_list = [10, 100, 1000]   \n",
    "means_list = []                      \n",
    "\n",
    "\n",
    "for n in sample_size_list:\n",
    "    means = [np.mean(np.random.lognormal(mean=1, sigma=0.5, size=n)) \n",
    "             for _ in range(num_simulations)]\n",
    "    means_list.append(means)\n",
    "\n",
    "fig, axes = plt.subplots(1, 3, figsize=(12,3))\n",
    "\n",
    "for sample_sz, data, ax in zip(sample_size_list, means_list, axes):\n",
    "    ax.hist(data)\n",
    "    ax.set_title(f\"n={sample_sz}\")\n",
    "    ax.set_xlabel(\"Sample mean\")\n",
    "    ax.set_ylabel(\"Frequency\")\n",
    "    ax.set_xlim(1, 5)\n",
    "\n",
    "plt.tight_layout()\n",
    "plt.show()\n"
   ]
  },
  {
   "cell_type": "code",
   "execution_count": 24,
   "metadata": {},
   "outputs": [],
   "source": [
    "# Sample Size 1000\n",
    "\n",
    "# complete the code"
   ]
  },
  {
   "cell_type": "code",
   "execution_count": 25,
   "metadata": {},
   "outputs": [],
   "source": [
    "# How does the sample size affect the distribution of the sample means?\n",
    "\n",
    "# Write your answer as a comment below, or create a markdown cell.\n",
    "\n",
    "\n"
   ]
  },
  {
   "cell_type": "markdown",
   "metadata": {},
   "source": [
    "### Larger sample sizes make the sample means cluster more tightly around the true population mean with less variability. \n"
   ]
  },
  {
   "cell_type": "markdown",
   "metadata": {},
   "source": []
  }
 ],
 "metadata": {
  "kernelspec": {
   "display_name": "base",
   "language": "python",
   "name": "python3"
  },
  "language_info": {
   "codemirror_mode": {
    "name": "ipython",
    "version": 3
   },
   "file_extension": ".py",
   "mimetype": "text/x-python",
   "name": "python",
   "nbconvert_exporter": "python",
   "pygments_lexer": "ipython3",
   "version": "3.13.5"
  }
 },
 "nbformat": 4,
 "nbformat_minor": 2
}
